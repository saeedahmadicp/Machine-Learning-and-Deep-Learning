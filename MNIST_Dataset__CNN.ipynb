{
  "nbformat": 4,
  "nbformat_minor": 0,
  "metadata": {
    "colab": {
      "name": "MNIST Dataset _CNN",
      "provenance": [],
      "mount_file_id": "10KWS8b1833tjn9_0gH9xJBggtHVCq8SB",
      "authorship_tag": "ABX9TyO9KKxINF5ZT15FVWJmRom2",
      "include_colab_link": true
    },
    "kernelspec": {
      "name": "python3",
      "display_name": "Python 3"
    },
    "language_info": {
      "name": "python"
    },
    "accelerator": "TPU"
  },
  "cells": [
    {
      "cell_type": "markdown",
      "metadata": {
        "id": "view-in-github",
        "colab_type": "text"
      },
      "source": [
        "<a href=\"https://colab.research.google.com/github/saeedahmadicp/Machine-Learning/blob/main/MNIST_Dataset__CNN.ipynb\" target=\"_parent\"><img src=\"https://colab.research.google.com/assets/colab-badge.svg\" alt=\"Open In Colab\"/></a>"
      ]
    },
    {
      "cell_type": "code",
      "metadata": {
        "id": "gsSvCES8EUOK"
      },
      "source": [
        "import tensorflow as tf\n",
        "from tensorflow import keras"
      ],
      "execution_count": null,
      "outputs": []
    },
    {
      "cell_type": "code",
      "metadata": {
        "id": "Fxl3MHXhEqkC"
      },
      "source": [
        "(x_train, y_train), (x_test, y_test) = keras.datasets.mnist.load_data()\n"
      ],
      "execution_count": null,
      "outputs": []
    },
    {
      "cell_type": "code",
      "metadata": {
        "colab": {
          "base_uri": "https://localhost:8080/"
        },
        "id": "Edm60utPEvCG",
        "outputId": "f71d6276-632a-4197-e258-b60970248a62"
      },
      "source": [
        "\n",
        "# Reshaping the array to 4-dims so that it can work with the Keras API\n",
        "x_train = x_train.reshape(x_train.shape[0], 28, 28, 1)\n",
        "x_test = x_test.reshape(x_test.shape[0], 28, 28, 1)\n",
        "input_shape = (28, 28, 1)\n",
        "# Making sure that the values are float so that we can get decimal points after division\n",
        "x_train = x_train.astype('float32')\n",
        "x_test = x_test.astype('float32')\n",
        "# Normalizing the RGB codes by dividing it to the max RGB value.\n",
        "x_train /= 255\n",
        "x_test /= 255\n",
        "print('x_train shape:', x_train.shape)\n",
        "print('Number of images in x_train', x_train.shape[0])\n",
        "print('Number of images in x_test', x_test.shape[0])"
      ],
      "execution_count": null,
      "outputs": [
        {
          "output_type": "stream",
          "text": [
            "x_train shape: (60000, 28, 28, 1)\n",
            "Number of images in x_train 60000\n",
            "Number of images in x_test 10000\n"
          ],
          "name": "stdout"
        }
      ]
    },
    {
      "cell_type": "code",
      "metadata": {
        "id": "L8eiQZoxFLho"
      },
      "source": [
        "# Importing the required Keras modules containing model and layers\n",
        "from tensorflow.keras.models import Sequential\n",
        "from tensorflow.keras.layers import Dense, Conv2D, Dropout, Flatten, MaxPooling2D\n",
        "# Creating a Sequential Model and adding the layers\n",
        "model = Sequential()\n",
        "model.add(Conv2D(28, kernel_size=(3,3), input_shape=input_shape))\n",
        "model.add(MaxPooling2D(pool_size=(2, 2)))\n",
        "model.add(Flatten()) # Flattening the 2D arrays for fully connected layers\n",
        "model.add(Dense(128, activation=tf.nn.relu))\n",
        "model.add(Dropout(0.2))\n",
        "model.add(Dense(10,activation=tf.nn.softmax))"
      ],
      "execution_count": null,
      "outputs": []
    },
    {
      "cell_type": "code",
      "metadata": {
        "colab": {
          "base_uri": "https://localhost:8080/"
        },
        "id": "UeV6aY-XGFLv",
        "outputId": "14b3da24-3e73-441b-c75f-e21ac048e521"
      },
      "source": [
        "model.compile(optimizer='adam', \n",
        "              loss='sparse_categorical_crossentropy', \n",
        "              metrics=['accuracy'])\n",
        "model.fit(x_train, y_train, epochs=25)"
      ],
      "execution_count": null,
      "outputs": [
        {
          "output_type": "stream",
          "text": [
            "Epoch 1/25\n",
            "1875/1875 [==============================] - 33s 18ms/step - loss: 0.0152 - accuracy: 0.9947\n",
            "Epoch 2/25\n",
            "1875/1875 [==============================] - 33s 18ms/step - loss: 0.0161 - accuracy: 0.9944\n",
            "Epoch 3/25\n",
            "1875/1875 [==============================] - 34s 18ms/step - loss: 0.0137 - accuracy: 0.9956\n",
            "Epoch 4/25\n",
            "1875/1875 [==============================] - 33s 18ms/step - loss: 0.0137 - accuracy: 0.9954\n",
            "Epoch 5/25\n",
            "1875/1875 [==============================] - 34s 18ms/step - loss: 0.0134 - accuracy: 0.9955\n",
            "Epoch 6/25\n",
            "1875/1875 [==============================] - 34s 18ms/step - loss: 0.0127 - accuracy: 0.9957\n",
            "Epoch 7/25\n",
            "1875/1875 [==============================] - 33s 17ms/step - loss: 0.0124 - accuracy: 0.9959\n",
            "Epoch 8/25\n",
            "1875/1875 [==============================] - 33s 18ms/step - loss: 0.0114 - accuracy: 0.9963\n",
            "Epoch 9/25\n",
            "1875/1875 [==============================] - 35s 19ms/step - loss: 0.0119 - accuracy: 0.9961\n",
            "Epoch 10/25\n",
            "1875/1875 [==============================] - 34s 18ms/step - loss: 0.0103 - accuracy: 0.9964\n",
            "Epoch 11/25\n",
            "1875/1875 [==============================] - 33s 17ms/step - loss: 0.0121 - accuracy: 0.9962\n",
            "Epoch 12/25\n",
            "1875/1875 [==============================] - 33s 18ms/step - loss: 0.0080 - accuracy: 0.9973\n",
            "Epoch 13/25\n",
            "1875/1875 [==============================] - 34s 18ms/step - loss: 0.0116 - accuracy: 0.9963\n",
            "Epoch 14/25\n",
            "1875/1875 [==============================] - 33s 18ms/step - loss: 0.0098 - accuracy: 0.9967\n",
            "Epoch 15/25\n",
            "1875/1875 [==============================] - 33s 18ms/step - loss: 0.0105 - accuracy: 0.9966\n",
            "Epoch 16/25\n",
            "1875/1875 [==============================] - 34s 18ms/step - loss: 0.0077 - accuracy: 0.9975\n",
            "Epoch 17/25\n",
            "1875/1875 [==============================] - 34s 18ms/step - loss: 0.0093 - accuracy: 0.9970\n",
            "Epoch 18/25\n",
            "1875/1875 [==============================] - 33s 18ms/step - loss: 0.0102 - accuracy: 0.9969\n",
            "Epoch 19/25\n",
            "1875/1875 [==============================] - 33s 18ms/step - loss: 0.0111 - accuracy: 0.9966\n",
            "Epoch 20/25\n",
            "1875/1875 [==============================] - 34s 18ms/step - loss: 0.0095 - accuracy: 0.9973\n",
            "Epoch 21/25\n",
            "1875/1875 [==============================] - 34s 18ms/step - loss: 0.0092 - accuracy: 0.9971\n",
            "Epoch 22/25\n",
            "1875/1875 [==============================] - 34s 18ms/step - loss: 0.0082 - accuracy: 0.9975\n",
            "Epoch 23/25\n",
            "1875/1875 [==============================] - 35s 19ms/step - loss: 0.0101 - accuracy: 0.9969\n",
            "Epoch 24/25\n",
            "1875/1875 [==============================] - 34s 18ms/step - loss: 0.0084 - accuracy: 0.9975\n",
            "Epoch 25/25\n",
            "1875/1875 [==============================] - 34s 18ms/step - loss: 0.0088 - accuracy: 0.9973\n"
          ],
          "name": "stdout"
        },
        {
          "output_type": "execute_result",
          "data": {
            "text/plain": [
              "<tensorflow.python.keras.callbacks.History at 0x7efba20d9e90>"
            ]
          },
          "metadata": {
            "tags": []
          },
          "execution_count": 18
        }
      ]
    },
    {
      "cell_type": "code",
      "metadata": {
        "colab": {
          "base_uri": "https://localhost:8080/"
        },
        "id": "uahs0Ok5GO_3",
        "outputId": "bab18ff3-5f6b-4087-e0d3-ddfdfb79aa99"
      },
      "source": [
        "model.evaluate(x_test, y_test)"
      ],
      "execution_count": null,
      "outputs": [
        {
          "output_type": "stream",
          "text": [
            "313/313 [==============================] - 2s 6ms/step - loss: 0.1173 - accuracy: 0.9852\n"
          ],
          "name": "stdout"
        },
        {
          "output_type": "execute_result",
          "data": {
            "text/plain": [
              "[0.1173151358962059, 0.9851999878883362]"
            ]
          },
          "metadata": {
            "tags": []
          },
          "execution_count": 19
        }
      ]
    },
    {
      "cell_type": "code",
      "metadata": {
        "colab": {
          "base_uri": "https://localhost:8080/"
        },
        "id": "6n9hcamCLezW",
        "outputId": "0756b638-c6fa-4815-a8f4-136307718b72"
      },
      "source": [
        "filePath = \"/content/drive/MyDrive/Colab Notebooks\"\n",
        "model.save(filePath)"
      ],
      "execution_count": null,
      "outputs": [
        {
          "output_type": "stream",
          "text": [
            "INFO:tensorflow:Assets written to: /content/drive/MyDrive/Colab Notebooks/assets\n"
          ],
          "name": "stdout"
        }
      ]
    }
  ]
}