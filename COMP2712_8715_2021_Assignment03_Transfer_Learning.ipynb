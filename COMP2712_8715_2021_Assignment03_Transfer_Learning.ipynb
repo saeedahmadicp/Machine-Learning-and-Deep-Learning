{
  "nbformat": 4,
  "nbformat_minor": 0,
  "metadata": {
    "colab": {
      "name": "COMP2712_8715_2021_Assignment03_Transfer_Learning.ipynb",
      "provenance": [],
      "collapsed_sections": [],
      "include_colab_link": true
    },
    "kernelspec": {
      "display_name": "Python 3",
      "name": "python3"
    },
    "accelerator": "GPU"
  },
  "cells": [
    {
      "cell_type": "markdown",
      "metadata": {
        "id": "view-in-github",
        "colab_type": "text"
      },
      "source": [
        "<a href=\"https://colab.research.google.com/github/saeedahmadicp/Machine-Learning-and-Deep-Learning/blob/main/COMP2712_8715_2021_Assignment03_Transfer_Learning.ipynb\" target=\"_parent\"><img src=\"https://colab.research.google.com/assets/colab-badge.svg\" alt=\"Open In Colab\"/></a>"
      ]
    },
    {
      "cell_type": "markdown",
      "metadata": {
        "id": "KVDcdZVVIswy"
      },
      "source": [
        "# COMP2712_8715_2021 Assignment03: Classifying Images Using CNN \n",
        "\n",
        "##Part d) Transfer Learning\n",
        "\n"
      ]
    },
    {
      "cell_type": "code",
      "metadata": {
        "colab": {
          "base_uri": "https://localhost:8080/"
        },
        "id": "DNxPfWhw_fRO",
        "outputId": "c1e342c2-203b-49b3-f407-90c199c0c6c7"
      },
      "source": [
        "from google.colab import drive\n",
        "drive.mount('/content/drive')"
      ],
      "execution_count": null,
      "outputs": [
        {
          "output_type": "stream",
          "name": "stdout",
          "text": [
            "Mounted at /content/drive\n"
          ]
        }
      ]
    },
    {
      "cell_type": "markdown",
      "metadata": {
        "id": "3s7DsaxDI2im"
      },
      "source": [
        "## Functions to work with CIFAR\n",
        "\n",
        "The functions below help with access to the CIFAR-10 data the you have downloaded."
      ]
    },
    {
      "cell_type": "code",
      "metadata": {
        "id": "nUSVhQr5KDv1"
      },
      "source": [
        "import pickle\n",
        "import numpy as np\n",
        "import pandas as pd\n",
        "\n",
        "def load_CIFAR_batch(filename, flatten=True, categorical=True):\n",
        "    \"\"\" load single batch of cifar \"\"\"\n",
        "    with open(filename, 'rb') as f:\n",
        "        datadict = pickle.load(f, encoding='bytes')\n",
        "        X = datadict[b'data']        \n",
        "        X = X.reshape(10000, 3, 32, 32).transpose(0, 2, 3, 1).astype(\"float\")\n",
        "        if (flatten):\n",
        "          X = X.reshape(10000, 3072)\n",
        "        X = X.astype('float32')\n",
        "        X /= 255\n",
        "\n",
        "        y = datadict[b'labels']\n",
        "        y = np.array(y)\n",
        "        if (categorical):\n",
        "          y = pd.get_dummies(y).values\n",
        "\n",
        "        return X, y\n",
        "\n",
        "def load_CIFAR_meta(filename):\n",
        "  with open(filename,'rb') as f:\n",
        "    metadict = pickle.load(f, encoding='bytes')\n",
        "\n",
        "    class_labels = [ val.decode() for val in metadict.get(b'label_names') ]\n",
        "    return class_labels\n",
        "\n",
        "def get_image(X, index, nchans=3, size=32):\n",
        "  xi = X[index,:]\n",
        "  img = xi.reshape(32, 32, 3)\n",
        "  return img"
      ],
      "execution_count": null,
      "outputs": []
    },
    {
      "cell_type": "markdown",
      "metadata": {
        "id": "axqceDnNJVss"
      },
      "source": [
        "## Load the CIFAR data\n",
        "\n",
        "The CIFAR data has 5 batches of data and 1 test data set. Each batch is labelled\n",
        "- `data_batch_1`\n",
        "- `data_batch_2`\n",
        "- `data_batch_3`\n",
        "- `data_batch_4`\n",
        "- `data_batch_5`\n",
        "\n",
        "and a test set labelled\n",
        "- `test_batch`\n",
        "\n",
        "each batch has 10,000 images, so 50,000 training and 10,000 test images."
      ]
    },
    {
      "cell_type": "markdown",
      "metadata": {
        "id": "s2X0_Oz_SkHi"
      },
      "source": [
        "Below is example of loading the first batch of training data labelled as `data_batch_1`.  You will need to update the path to match where you have stored your cifar-10 data."
      ]
    },
    {
      "cell_type": "code",
      "metadata": {
        "colab": {
          "base_uri": "https://localhost:8080/"
        },
        "id": "SudeLpyHCd-X",
        "outputId": "2f66444c-cf56-40db-dc1b-3eecbde2a4a5"
      },
      "source": [
        "flatten = False\n",
        "categorical = True\n",
        "\n",
        "# load only the first batch\n",
        "X1, y1 = load_CIFAR_batch('/content/drive/MyDrive/Dataset/cifar-10-batches-py/data_batch_1',flatten=flatten,categorical=categorical)\n",
        "\n",
        "# load only the second batch\n",
        "#X2, y2 = load_CIFAR_batch('/content/drive/MyDrive/Dataset/cifar-10-batches-py/data_batch_2',flatten=flatten,categorical=categorical)\n",
        "\n",
        "# Load the first batch from CIFAR-10\n",
        "X, y = load_CIFAR_batch('/content/drive/MyDrive/Dataset/cifar-10-batches-py/data_batch_1',flatten=flatten,categorical=categorical)\n",
        "\n",
        "# iterate over 2 to 5\n",
        "for bi in range(2,6):\n",
        "  # load the next data set 'bi'\n",
        "  X2, y2 = load_CIFAR_batch('/content/drive/MyDrive/Dataset/cifar-10-batches-py/data_batch_{}'.format(bi),flatten=flatten,categorical=categorical)\n",
        "\n",
        "  # concatenate/stack the dataest together\n",
        "  X = np.vstack([X, X2])\n",
        "  y = np.vstack([y, y2])\n",
        "\n",
        "\n",
        "print('We have {} instances of images'.format(y.shape[0]))\n"
      ],
      "execution_count": null,
      "outputs": [
        {
          "output_type": "stream",
          "name": "stdout",
          "text": [
            "We have 50000 instances of images\n"
          ]
        }
      ]
    },
    {
      "cell_type": "markdown",
      "metadata": {
        "id": "oMUnAt_YKPjp"
      },
      "source": [
        "The number of instances/examples for all the different classes.  There are 10 different classes."
      ]
    },
    {
      "cell_type": "code",
      "metadata": {
        "colab": {
          "base_uri": "https://localhost:8080/"
        },
        "id": "8-uX5AZmQG9N",
        "outputId": "5297f7ee-ab8d-4eab-edd4-22820f0be5ec"
      },
      "source": [
        "[np.sum(np.argmax(y, axis=1) == i) for i in range(0,10)]"
      ],
      "execution_count": null,
      "outputs": [
        {
          "output_type": "execute_result",
          "data": {
            "text/plain": [
              "[5000, 5000, 5000, 5000, 5000, 5000, 5000, 5000, 5000, 5000]"
            ]
          },
          "metadata": {},
          "execution_count": 4
        }
      ]
    },
    {
      "cell_type": "markdown",
      "metadata": {
        "id": "fD_HIgldKlsd"
      },
      "source": [
        "The labels for the classes are stored in the `batches.meta` file"
      ]
    },
    {
      "cell_type": "code",
      "metadata": {
        "colab": {
          "base_uri": "https://localhost:8080/"
        },
        "id": "-HKjGtxStmcz",
        "outputId": "1574b8fd-3cb1-46c8-82ca-e283fc3d575d"
      },
      "source": [
        "class_labels = load_CIFAR_meta('/content/drive/MyDrive/Dataset/cifar-10-batches-py/batches.meta')\n",
        "print(class_labels)"
      ],
      "execution_count": null,
      "outputs": [
        {
          "output_type": "stream",
          "name": "stdout",
          "text": [
            "['airplane', 'automobile', 'bird', 'cat', 'deer', 'dog', 'frog', 'horse', 'ship', 'truck']\n"
          ]
        }
      ]
    },
    {
      "cell_type": "markdown",
      "metadata": {
        "id": "AYNjse_BTLnx"
      },
      "source": [
        "Let's look at some random cat images, because cats."
      ]
    },
    {
      "cell_type": "code",
      "metadata": {
        "id": "zoI3IO7KTjMg"
      },
      "source": [
        "import random\n",
        "import matplotlib.pyplot as plt\n",
        "\n",
        "def plot_random(X, y, class_labels, what_target='cat'):\n",
        "\n",
        "  what_label = class_labels.index(what_target)\n",
        "  what_labeli = np.where(np.argmax(y,axis=1) == what_label)[0]\n",
        "  random_what_index = what_labeli[random.choice(range(len(what_labeli)))]\n",
        "\n",
        "  plt.imshow(get_image(X,random_what_index))\n",
        "  plt.title('{}, index: {}'.format(what_target,random_what_index))\n",
        "  plt.axis('off')"
      ],
      "execution_count": null,
      "outputs": []
    },
    {
      "cell_type": "code",
      "metadata": {
        "colab": {
          "base_uri": "https://localhost:8080/",
          "height": 264
        },
        "id": "6AiPII3JUm3R",
        "outputId": "5f3daedb-f908-4023-8b0d-7bc990b6ddf0"
      },
      "source": [
        "plot_random(X, y, class_labels, what_target='ship')\n"
      ],
      "execution_count": null,
      "outputs": [
        {
          "output_type": "display_data",
          "data": {
            "image/png": "[encoded data removed]",
            "text/plain": [
              "<Figure size 432x288 with 1 Axes>"
            ]
          },
          "metadata": {
            "needs_background": "light"
          }
        }
      ]
    },
    {
      "cell_type": "markdown",
      "metadata": {
        "id": "v557teUwb50v"
      },
      "source": [
        "# Part d) Transfer Learning and embeding the pre-trained model in our model\n",
        "## Fine Tuning with learning rate of 0.0001\n",
        "\n"
      ]
    },
    {
      "cell_type": "code",
      "metadata": {
        "id": "AZk2OEWpb83j"
      },
      "source": [
        "# TensorFlow and tf.keras\n",
        "import tensorflow as tf\n",
        "from tensorflow import keras\n",
        "from tensorflow.keras.layers import Dense, Conv2D, Flatten, MaxPooling2D, Input, Dropout, BatchNormalization, GlobalAveragePooling2D\n",
        "from tensorflow.keras.applications import VGG19, Xception,InceptionResNetV2\n",
        "\n",
        "\n",
        "\n",
        "\n",
        "def transfer_learning_model(number_of_output, input_shape, learn_rate):\n",
        "    \n",
        "    base_model = VGG19(\n",
        "        include_top=False,\n",
        "        weights='imagenet',\n",
        "        input_shape=(input_shape),\n",
        "    )\n",
        " \n",
        "    base_model.trainable = True\n",
        "    model_cnn = keras.Sequential()\n",
        "\n",
        "    model_cnn.add(base_model)\n",
        "    model_cnn.add(GlobalAveragePooling2D())\n",
        "    model_cnn.add(BatchNormalization())\n",
        "    model_cnn.add(Flatten())\n",
        "    model_cnn.add(Dense(256, activation='relu'))\n",
        "    model_cnn.add(Dense(128, activation='relu'))\n",
        "    model_cnn.add(Dropout(0.6))\n",
        "\n",
        "    model_cnn.add(Dense(number_of_output, activation='softmax'))\n",
        "    \n",
        "    model_cnn.compile(optimizer= tf.optimizers.Adam(learning_rate=learn_rate, beta_1=0.9, beta_2=0.999, epsilon=None, decay=0.0, amsgrad=False),\n",
        "                      loss=keras.losses.categorical_crossentropy,\n",
        "                      metrics=keras.metrics.categorical_crossentropy)\n",
        "    return model_cnn"
      ],
      "execution_count": null,
      "outputs": []
    },
    {
      "cell_type": "markdown",
      "metadata": {
        "id": "0bmQvxzq2rjz"
      },
      "source": [
        "### Flatten the data\n",
        "The data is currently a 3D image, but for the simple model we require a 1D feature vector.  So, we need to flatten the data."
      ]
    },
    {
      "cell_type": "code",
      "metadata": {
        "colab": {
          "base_uri": "https://localhost:8080/"
        },
        "id": "-5qBU8F32Uug",
        "outputId": "276b0943-7f45-45db-ea8e-b64193a6abd5"
      },
      "source": [
        "# we need to flatten the images for the simple model\n",
        "n_samples = len(X)\n",
        "X_flatten = X.reshape((n_samples, -1))\n",
        "\n",
        "print('The number of samples: {}'.format(n_samples))\n",
        "print('The old shape of the data: {}'.format(X.shape))\n",
        "print('The new shape of the data: {}'.format(X_flatten.shape))\n",
        "print('The shape of the y       : {}'.format(y.shape))"
      ],
      "execution_count": null,
      "outputs": [
        {
          "output_type": "stream",
          "name": "stdout",
          "text": [
            "The number of samples: 50000\n",
            "The old shape of the data: (50000, 32, 32, 3)\n",
            "The new shape of the data: (50000, 3072)\n",
            "The shape of the y       : (50000, 10)\n"
          ]
        }
      ]
    },
    {
      "cell_type": "markdown",
      "metadata": {
        "id": "CHQRFduHz1bd"
      },
      "source": [
        "### Train the model\n",
        "\n"
      ]
    },
    {
      "cell_type": "code",
      "metadata": {
        "colab": {
          "base_uri": "https://localhost:8080/"
        },
        "id": "oZPXxhN2z02z",
        "outputId": "bb0c029e-0e68-44aa-88fe-551e34172aa0"
      },
      "source": [
        "# sklearn evaluation packages\n",
        "from sklearn.model_selection import StratifiedKFold\n",
        "from sklearn.metrics import classification_report\n",
        "from sklearn.metrics import confusion_matrix\n",
        "from sklearn.metrics import accuracy_score\n",
        "from sklearn.metrics import matthews_corrcoef\n",
        "\n",
        "# use 5 epochs or iterations\n",
        "no_epochs = 20\n",
        "number_of_features = len(X_flatten[0])\n",
        "\n",
        "# with 50 nodes in the single hidden layer\n",
        "number_hidden_nodes = 50\n",
        "number_of_output = len(y[0])\n",
        "\n",
        "# relu is a good choice\n",
        "activation = 'relu' # select from [None, 'sigmoid', 'tanh', 'relu']:\n",
        "y_class = np.argmax(y, axis=1)\n",
        "\n",
        "# build a small cnn model\n",
        "model = transfer_learning_model(number_of_output=number_of_output, input_shape=(32,32,3), learn_rate=0.0001)\n",
        "model.summary()\n",
        "\n",
        "\n",
        "# Stratified K-Fold for evaluation of generalisation performance\n",
        "k = 3 # 10 is the gold standard\n",
        "kf = StratifiedKFold(n_splits=k)\n",
        "foldi = 1\n",
        "ac = [] # accuracy_score\n",
        "cr = [] # classification_report\n",
        "cm = [] # confusion_matrix\n",
        "y_test_max_all = []\n",
        "y_pred_max_all = []\n",
        "\n",
        "\n",
        "for train_index, test_index in kf.split(X,y_class):\n",
        "  X_train, X_test, y_train, y_test = X[train_index,:], X[test_index,:], y[train_index,:], y[test_index,:]\n",
        "\n",
        "  model = transfer_learning_model(number_of_output=number_of_output, input_shape=(32,32,3), learn_rate=0.0001)\n",
        "\n",
        "  print('Training with {0} for {1} for fold {2} or {3}'.format(activation, no_epochs, foldi, k))\n",
        "  history = model.fit(X_train, y_train, epochs=no_epochs, verbose=1)\n",
        "\n",
        "  hist = pd.DataFrame(history.history)\n",
        "  hist['epoch'] = history.epoch\n",
        "\n",
        "\n",
        "  loss_final = np.sqrt(float(hist['loss'].tail(1)))\n",
        "  print()\n",
        "  print('Final Loss on training set: {}'.format(round(loss_final, 3)))\n",
        "\n",
        "  # evaluate the model\n",
        "  y_pred_real = model.predict(X_test)\n",
        "  y_pred_max = np.argmax(y_pred_real, axis=-1).astype(int)\n",
        "  y_test_max = y_test.argmax(axis=1).astype(int)\n",
        "\n",
        "  y_pred_max_all.extend(y_pred_max)\n",
        "  y_test_max_all.extend(y_test_max)\n",
        "\n",
        "  ac.append(accuracy_score(y_test_max,y_pred_max))\n",
        "  print('accuracy is {:.2f}%'.format(ac[-1]*100)) # Print accuracy score\n",
        "  print()\n",
        "  cr.append(classification_report(y_test_max,y_pred_max)) # Print summary report\n",
        "  cm.append(confusion_matrix(y_test_max, y_pred_max))\n",
        "  \n",
        "  foldi = foldi + 1\n",
        "\n",
        "print('k-fold complete!')"
      ],
      "execution_count": null,
      "outputs": [
        {
          "output_type": "stream",
          "name": "stdout",
          "text": [
            "Model: \"sequential_2\"\n",
            "_________________________________________________________________\n",
            "Layer (type)                 Output Shape              Param #   \n",
            "=================================================================\n",
            "vgg19 (Functional)           (None, 1, 1, 512)         20024384  \n",
            "_________________________________________________________________\n",
            "global_average_pooling2d_2 ( (None, 512)               0         \n",
            "_________________________________________________________________\n",
            "batch_normalization_2 (Batch (None, 512)               2048      \n",
            "_________________________________________________________________\n",
            "flatten_2 (Flatten)          (None, 512)               0         \n",
            "_________________________________________________________________\n",
            "dense_6 (Dense)              (None, 256)               131328    \n",
            "_________________________________________________________________\n",
            "dense_7 (Dense)              (None, 128)               32896     \n",
            "_________________________________________________________________\n",
            "dropout_2 (Dropout)          (None, 128)               0         \n",
            "_________________________________________________________________\n",
            "dense_8 (Dense)              (None, 10)                1290      \n",
            "=================================================================\n",
            "Total params: 20,191,946\n",
            "Trainable params: 20,190,922\n",
            "Non-trainable params: 1,024\n",
            "_________________________________________________________________\n",
            "Training with relu for 20 for fold 1 or 3\n",
            "Epoch 1/20\n",
            "1042/1042 [==============================] - 81s 76ms/step - loss: 1.3459 - categorical_crossentropy: 1.3459\n",
            "Epoch 2/20\n",
            "1042/1042 [==============================] - 78s 75ms/step - loss: 0.8214 - categorical_crossentropy: 0.8214\n",
            "Epoch 3/20\n",
            "1042/1042 [==============================] - 79s 75ms/step - loss: 0.6319 - categorical_crossentropy: 0.6319\n",
            "Epoch 4/20\n",
            "1042/1042 [==============================] - 78s 75ms/step - loss: 0.4987 - categorical_crossentropy: 0.4987\n",
            "Epoch 5/20\n",
            "1042/1042 [==============================] - 78s 75ms/step - loss: 0.4052 - categorical_crossentropy: 0.4052\n",
            "Epoch 6/20\n",
            "1042/1042 [==============================] - 78s 75ms/step - loss: 0.3184 - categorical_crossentropy: 0.3184\n",
            "Epoch 7/20\n",
            "1042/1042 [==============================] - 78s 75ms/step - loss: 0.2619 - categorical_crossentropy: 0.2619\n",
            "Epoch 8/20\n",
            "1042/1042 [==============================] - 78s 75ms/step - loss: 0.2095 - categorical_crossentropy: 0.2095\n",
            "Epoch 9/20\n",
            "1042/1042 [==============================] - 78s 75ms/step - loss: 0.1732 - categorical_crossentropy: 0.1732\n",
            "Epoch 10/20\n",
            "1042/1042 [==============================] - 79s 75ms/step - loss: 0.1486 - categorical_crossentropy: 0.1486\n",
            "Epoch 11/20\n",
            "1042/1042 [==============================] - 79s 76ms/step - loss: 0.1219 - categorical_crossentropy: 0.1219\n",
            "Epoch 12/20\n",
            "1042/1042 [==============================] - 79s 76ms/step - loss: 0.1095 - categorical_crossentropy: 0.1095\n",
            "Epoch 13/20\n",
            "1042/1042 [==============================] - 79s 76ms/step - loss: 0.0946 - categorical_crossentropy: 0.0946\n",
            "Epoch 14/20\n",
            "1042/1042 [==============================] - 79s 76ms/step - loss: 0.0868 - categorical_crossentropy: 0.0868\n",
            "Epoch 15/20\n",
            "1042/1042 [==============================] - 79s 76ms/step - loss: 0.0790 - categorical_crossentropy: 0.0790\n",
            "Epoch 16/20\n",
            "1042/1042 [==============================] - 79s 76ms/step - loss: 0.0729 - categorical_crossentropy: 0.0729\n",
            "Epoch 17/20\n",
            "1042/1042 [==============================] - 79s 76ms/step - loss: 0.0680 - categorical_crossentropy: 0.0680\n",
            "Epoch 18/20\n",
            "1042/1042 [==============================] - 79s 76ms/step - loss: 0.0679 - categorical_crossentropy: 0.0679\n",
            "Epoch 19/20\n",
            "1042/1042 [==============================] - 78s 75ms/step - loss: 0.0592 - categorical_crossentropy: 0.0592\n",
            "Epoch 20/20\n",
            "1042/1042 [==============================] - 78s 75ms/step - loss: 0.0588 - categorical_crossentropy: 0.0588\n",
            "\n",
            "Final Loss on training set: 0.243\n",
            "accuracy is 84.62%\n",
            "\n",
            "Training with relu for 20 for fold 2 or 3\n",
            "Epoch 1/20\n",
            "1042/1042 [==============================] - 80s 75ms/step - loss: 1.4445 - categorical_crossentropy: 1.4445\n",
            "Epoch 2/20\n",
            "1042/1042 [==============================] - 78s 75ms/step - loss: 0.8567 - categorical_crossentropy: 0.8567\n",
            "Epoch 3/20\n",
            "1042/1042 [==============================] - 78s 75ms/step - loss: 0.6565 - categorical_crossentropy: 0.6565\n",
            "Epoch 4/20\n",
            "1042/1042 [==============================] - 78s 75ms/step - loss: 0.5251 - categorical_crossentropy: 0.5251\n",
            "Epoch 5/20\n",
            "1042/1042 [==============================] - 78s 75ms/step - loss: 0.4180 - categorical_crossentropy: 0.4180\n",
            "Epoch 6/20\n",
            "1042/1042 [==============================] - 78s 75ms/step - loss: 0.3498 - categorical_crossentropy: 0.3498\n",
            "Epoch 7/20\n",
            "1042/1042 [==============================] - 78s 75ms/step - loss: 0.2801 - categorical_crossentropy: 0.2801\n",
            "Epoch 8/20\n",
            "1042/1042 [==============================] - 78s 75ms/step - loss: 0.2343 - categorical_crossentropy: 0.2343\n",
            "Epoch 9/20\n",
            "1042/1042 [==============================] - 79s 76ms/step - loss: 0.1843 - categorical_crossentropy: 0.1843\n",
            "Epoch 10/20\n",
            "1042/1042 [==============================] - 79s 75ms/step - loss: 0.1520 - categorical_crossentropy: 0.1520\n",
            "Epoch 11/20\n",
            "1042/1042 [==============================] - 78s 75ms/step - loss: 0.1385 - categorical_crossentropy: 0.1385\n",
            "Epoch 12/20\n",
            "1042/1042 [==============================] - 78s 75ms/step - loss: 0.1151 - categorical_crossentropy: 0.1151\n",
            "Epoch 13/20\n",
            "1042/1042 [==============================] - 78s 75ms/step - loss: 0.1037 - categorical_crossentropy: 0.1037\n",
            "Epoch 14/20\n",
            "1042/1042 [==============================] - 79s 75ms/step - loss: 0.0934 - categorical_crossentropy: 0.0934\n",
            "Epoch 15/20\n",
            "1042/1042 [==============================] - 78s 75ms/step - loss: 0.0903 - categorical_crossentropy: 0.0903\n",
            "Epoch 16/20\n",
            "1042/1042 [==============================] - 78s 75ms/step - loss: 0.0782 - categorical_crossentropy: 0.0782\n",
            "Epoch 17/20\n",
            "1042/1042 [==============================] - 78s 75ms/step - loss: 0.0661 - categorical_crossentropy: 0.0661\n",
            "Epoch 18/20\n",
            "1042/1042 [==============================] - 78s 75ms/step - loss: 0.0717 - categorical_crossentropy: 0.0717\n",
            "Epoch 19/20\n",
            "1042/1042 [==============================] - 78s 75ms/step - loss: 0.0683 - categorical_crossentropy: 0.0683\n",
            "Epoch 20/20\n",
            "1042/1042 [==============================] - 78s 75ms/step - loss: 0.0652 - categorical_crossentropy: 0.0652\n",
            "\n",
            "Final Loss on training set: 0.255\n",
            "accuracy is 83.23%\n",
            "\n",
            "Training with relu for 20 for fold 3 or 3\n",
            "Epoch 1/20\n",
            "1042/1042 [==============================] - 81s 76ms/step - loss: 1.5166 - categorical_crossentropy: 1.5166\n",
            "Epoch 2/20\n",
            "1042/1042 [==============================] - 78s 75ms/step - loss: 0.8815 - categorical_crossentropy: 0.8815\n",
            "Epoch 3/20\n",
            "1042/1042 [==============================] - 78s 75ms/step - loss: 0.6553 - categorical_crossentropy: 0.6553\n",
            "Epoch 4/20\n",
            "1042/1042 [==============================] - 78s 75ms/step - loss: 0.5156 - categorical_crossentropy: 0.5156\n",
            "Epoch 5/20\n",
            "1042/1042 [==============================] - 78s 75ms/step - loss: 0.4154 - categorical_crossentropy: 0.4154\n",
            "Epoch 6/20\n",
            "1042/1042 [==============================] - 78s 75ms/step - loss: 0.3392 - categorical_crossentropy: 0.3392\n",
            "Epoch 7/20\n",
            "1042/1042 [==============================] - 78s 75ms/step - loss: 0.2667 - categorical_crossentropy: 0.2667\n",
            "Epoch 8/20\n",
            "1042/1042 [==============================] - 78s 75ms/step - loss: 0.2242 - categorical_crossentropy: 0.2242\n",
            "Epoch 9/20\n",
            "1042/1042 [==============================] - 78s 75ms/step - loss: 0.1782 - categorical_crossentropy: 0.1782\n",
            "Epoch 10/20\n",
            "1042/1042 [==============================] - 79s 76ms/step - loss: 0.1440 - categorical_crossentropy: 0.1440\n",
            "Epoch 11/20\n",
            "1042/1042 [==============================] - 79s 76ms/step - loss: 0.1253 - categorical_crossentropy: 0.1253\n",
            "Epoch 12/20\n",
            "1042/1042 [==============================] - 79s 75ms/step - loss: 0.1201 - categorical_crossentropy: 0.1201\n",
            "Epoch 13/20\n",
            "1042/1042 [==============================] - 79s 75ms/step - loss: 0.1047 - categorical_crossentropy: 0.1047\n",
            "Epoch 14/20\n",
            "1042/1042 [==============================] - 79s 75ms/step - loss: 0.0901 - categorical_crossentropy: 0.0901\n",
            "Epoch 15/20\n",
            "1042/1042 [==============================] - 79s 75ms/step - loss: 0.0796 - categorical_crossentropy: 0.0796\n",
            "Epoch 16/20\n",
            "1042/1042 [==============================] - 79s 75ms/step - loss: 0.0846 - categorical_crossentropy: 0.0846\n",
            "Epoch 17/20\n",
            "1042/1042 [==============================] - 78s 75ms/step - loss: 0.0734 - categorical_crossentropy: 0.0734\n",
            "Epoch 18/20\n",
            "1042/1042 [==============================] - 78s 75ms/step - loss: 0.0698 - categorical_crossentropy: 0.0698\n",
            "Epoch 19/20\n",
            "1042/1042 [==============================] - 78s 75ms/step - loss: 0.0673 - categorical_crossentropy: 0.0673\n",
            "Epoch 20/20\n",
            "1042/1042 [==============================] - 78s 75ms/step - loss: 0.0636 - categorical_crossentropy: 0.0636\n",
            "\n",
            "Final Loss on training set: 0.252\n",
            "accuracy is 84.97%\n",
            "\n",
            "k-fold complete!\n"
          ]
        }
      ]
    },
    {
      "cell_type": "code",
      "metadata": {
        "colab": {
          "base_uri": "https://localhost:8080/"
        },
        "id": "0WFeY2vr-AI9",
        "outputId": "ddbdc95e-f3e7-46d3-f089-6bc616ea6c34"
      },
      "source": [
        "print('Average Accuracy for {}-CV: {}% +/- {}% SD'.format(k, np.round(np.mean(ac)*100,2), np.round(np.std(ac)*100,2)))"
      ],
      "execution_count": null,
      "outputs": [
        {
          "output_type": "stream",
          "name": "stdout",
          "text": [
            "Average Accuracy for 3-CV: 84.27% +/- 0.75% SD\n"
          ]
        }
      ]
    },
    {
      "cell_type": "code",
      "metadata": {
        "colab": {
          "base_uri": "https://localhost:8080/"
        },
        "id": "Lwysr2B4Szvc",
        "outputId": "3e40e848-f740-4162-c295-6be644275ab0"
      },
      "source": [
        "acc_all = accuracy_score(y_test_max_all,y_pred_max_all)*100\n",
        "print('Accuracy: {:.2f}%'.format(acc_all))\n",
        "print()\n",
        "print(classification_report(y_test_max_all,y_pred_max_all)) \n",
        "print(confusion_matrix(y_test_max_all, y_pred_max_all))\n",
        "\n",
        "mcc_all = matthews_corrcoef(y_test_max_all,y_pred_max_all)\n",
        "print()\n",
        "print('Matthews Correlation Coefficient: {}'.format(mcc_all))"
      ],
      "execution_count": null,
      "outputs": [
        {
          "output_type": "stream",
          "name": "stdout",
          "text": [
            "Accuracy: 84.27%\n",
            "\n",
            "              precision    recall  f1-score   support\n",
            "\n",
            "           0       0.84      0.87      0.86      5000\n",
            "           1       0.93      0.93      0.93      5000\n",
            "           2       0.85      0.75      0.80      5000\n",
            "           3       0.63      0.77      0.70      5000\n",
            "           4       0.82      0.84      0.83      5000\n",
            "           5       0.80      0.71      0.75      5000\n",
            "           6       0.90      0.88      0.89      5000\n",
            "           7       0.89      0.87      0.88      5000\n",
            "           8       0.90      0.92      0.91      5000\n",
            "           9       0.91      0.90      0.90      5000\n",
            "\n",
            "    accuracy                           0.84     50000\n",
            "   macro avg       0.85      0.84      0.84     50000\n",
            "weighted avg       0.85      0.84      0.84     50000\n",
            "\n",
            "[[4352   31  113   72   64   10   22   29  231   76]\n",
            " [  63 4627    9   28    6    8   14    4   62  179]\n",
            " [ 250    9 3731  335  281  121  157   60   44   12]\n",
            " [  71   13  124 3867  169  463  141   83   39   30]\n",
            " [  68    1  120  260 4214   87   81  146   14    9]\n",
            " [  21   12   98  948  143 3533   44  178    8   15]\n",
            " [  26   18  110  229  104   59 4393   14   36   11]\n",
            " [  62    3   50  224  151  132    8 4327   12   31]\n",
            " [ 129   82   19   52   15    7   12    3 4610   71]\n",
            " [ 114  206    9   82   14    2   11   18   61 4483]]\n",
            "\n",
            "Matthews Correlation Coefficient: 0.8256376914333111\n"
          ]
        }
      ]
    },
    {
      "cell_type": "code",
      "metadata": {
        "colab": {
          "base_uri": "https://localhost:8080/",
          "height": 607
        },
        "id": "OCHxfSKQ-WF-",
        "outputId": "79c63111-5c23-4c91-c1e1-9216b3f02df4"
      },
      "source": [
        "from matplotlib import pyplot as plt\n",
        "import seaborn as sns\n",
        "\n",
        "cm_all = np.sum(np.stack(cm,axis=2),axis=2)\n",
        "df_cm = pd.DataFrame(cm_all, columns=class_labels, index=class_labels)\n",
        "fig, ax1 = plt.subplots(1,1, figsize=(10,10))\n",
        "sns.heatmap(df_cm, annot=True, ax=ax1,square=True,  cmap=\"YlGnBu\",vmin=0,vmax=5000,fmt='d')\n",
        "ax1.set_title('Overall acc: {:.2f}% and mcc: {:.3f}'.format(acc_all,mcc_all))\n",
        "ax1.set_xlabel('Predicted')\n",
        "ax1.set_ylabel('Actual');"
      ],
      "execution_count": null,
      "outputs": [
        {
          "output_type": "display_data",
          "data": {
            "image/png": "[encoded data removed]",
            "text/plain": [
              "<Figure size 720x720 with 2 Axes>"
            ]
          },
          "metadata": {
            "needs_background": "light"
          }
        }
      ]
    },
    {
      "cell_type": "markdown",
      "metadata": {
        "id": "VKGHYaQ3HeVJ"
      },
      "source": [
        "# Part d) Transfer Learning and embeding the pre-trained model in our model\n",
        "## Training the top layer, and freezing the transfer model"
      ]
    },
    {
      "cell_type": "code",
      "metadata": {
        "id": "8kqXDhMWCNvk"
      },
      "source": [
        "# TensorFlow and tf.keras\n",
        "import tensorflow as tf\n",
        "from tensorflow import keras\n",
        "from tensorflow.keras.layers import Dense, Conv2D, Flatten, MaxPooling2D, Input, Dropout, BatchNormalization, GlobalAveragePooling2D\n",
        "from tensorflow.keras.applications import VGG19, Xception,InceptionResNetV2\n",
        "\n",
        "\n",
        "\n",
        "\n",
        "def transfer_learning_model(number_of_output, input_shape, learn_rate):\n",
        "    \n",
        "    base_model = VGG19(\n",
        "        include_top=False,\n",
        "        weights='imagenet',\n",
        "        input_shape=(input_shape),\n",
        "    )\n",
        "    base_model.trainable = False\n",
        "    model_cnn = keras.Sequential()\n",
        "\n",
        "    model_cnn.add(base_model)\n",
        "    model_cnn.add(GlobalAveragePooling2D())\n",
        "    model_cnn.add(BatchNormalization())\n",
        "    model_cnn.add(Flatten())\n",
        "    model_cnn.add(Dense(256, activation='relu'))\n",
        "    model_cnn.add(Dense(256, activation='relu'))\n",
        "    model_cnn.add(Dense(128, activation='relu'))\n",
        "    model_cnn.add(Dropout(0.4))\n",
        "\n",
        "    model_cnn.add(Dense(number_of_output, activation='softmax'))\n",
        "    \n",
        "    model_cnn.compile(optimizer= tf.optimizers.Adam(learning_rate=learn_rate, beta_1=0.9, beta_2=0.999, epsilon=None, decay=0.0, amsgrad=False),\n",
        "                      loss=keras.losses.categorical_crossentropy,\n",
        "                      metrics=keras.metrics.categorical_crossentropy)\n",
        "    return model_cnn"
      ],
      "execution_count": null,
      "outputs": []
    },
    {
      "cell_type": "code",
      "metadata": {
        "colab": {
          "base_uri": "https://localhost:8080/"
        },
        "id": "k6QS9CYcCQXP",
        "outputId": "4501fb59-1c29-46ab-bade-950d36b59a93"
      },
      "source": [
        "# sklearn evaluation packages\n",
        "from sklearn.model_selection import StratifiedKFold\n",
        "from sklearn.metrics import classification_report\n",
        "from sklearn.metrics import confusion_matrix\n",
        "from sklearn.metrics import accuracy_score\n",
        "from sklearn.metrics import matthews_corrcoef\n",
        "\n",
        "# use 5 epochs or iterations\n",
        "no_epochs = 40\n",
        "number_of_features = len(X_flatten[0])\n",
        "\n",
        "# with 50 nodes in the single hidden layer\n",
        "number_hidden_nodes = 50\n",
        "number_of_output = len(y[0])\n",
        "\n",
        "# relu is a good choice\n",
        "activation = 'relu' # select from [None, 'sigmoid', 'tanh', 'relu']:\n",
        "y_class = np.argmax(y, axis=1)\n",
        "\n",
        "# build a small cnn model\n",
        "model = transfer_learning_model(number_of_output=number_of_output, input_shape=(32,32,3), learn_rate=0.001)\n",
        "model.summary()\n",
        "\n",
        "\n",
        "# Stratified K-Fold for evaluation of generalisation performance\n",
        "k = 3 # 10 is the gold standard\n",
        "kf = StratifiedKFold(n_splits=k)\n",
        "foldi = 1\n",
        "ac = [] # accuracy_score\n",
        "cr = [] # classification_report\n",
        "cm = [] # confusion_matrix\n",
        "y_test_max_all = []\n",
        "y_pred_max_all = []\n",
        "\n",
        "\n",
        "for train_index, test_index in kf.split(X,y_class):\n",
        "  X_train, X_test, y_train, y_test = X[train_index,:], X[test_index,:], y[train_index,:], y[test_index,:]\n",
        "\n",
        "  model = transfer_learning_model(number_of_output=number_of_output, input_shape=(32,32,3), learn_rate=0.001)\n",
        "\n",
        "  print('Training with {0} for {1} for fold {2} or {3}'.format(activation, no_epochs, foldi, k))\n",
        "  history = model.fit(X_train, y_train, epochs=no_epochs, verbose=1)\n",
        "\n",
        "  hist = pd.DataFrame(history.history)\n",
        "  hist['epoch'] = history.epoch\n",
        "\n",
        "\n",
        "  loss_final = np.sqrt(float(hist['loss'].tail(1)))\n",
        "  print()\n",
        "  print('Final Loss on training set: {}'.format(round(loss_final, 3)))\n",
        "\n",
        "  # evaluate the model\n",
        "  y_pred_real = model.predict(X_test)\n",
        "  y_pred_max = np.argmax(y_pred_real, axis=-1).astype(int)\n",
        "  y_test_max = y_test.argmax(axis=1).astype(int)\n",
        "\n",
        "  y_pred_max_all.extend(y_pred_max)\n",
        "  y_test_max_all.extend(y_test_max)\n",
        "\n",
        "  ac.append(accuracy_score(y_test_max,y_pred_max))\n",
        "  print('accuracy is {:.2f}%'.format(ac[-1]*100)) # Print accuracy score\n",
        "  print()\n",
        "  cr.append(classification_report(y_test_max,y_pred_max)) # Print summary report\n",
        "  cm.append(confusion_matrix(y_test_max, y_pred_max))\n",
        "  \n",
        "  foldi = foldi + 1\n",
        "\n",
        "print('k-fold complete!')"
      ],
      "execution_count": null,
      "outputs": [
        {
          "output_type": "stream",
          "name": "stdout",
          "text": [
            "Downloading data from https://storage.googleapis.com/tensorflow/keras-applications/vgg19/vgg19_weights_tf_dim_ordering_tf_kernels_notop.h5\n",
            "80142336/80134624 [==============================] - 1s 0us/step\n",
            "80150528/80134624 [==============================] - 1s 0us/step\n",
            "Model: \"sequential\"\n",
            "_________________________________________________________________\n",
            "Layer (type)                 Output Shape              Param #   \n",
            "=================================================================\n",
            "vgg19 (Functional)           (None, 1, 1, 512)         20024384  \n",
            "_________________________________________________________________\n",
            "global_average_pooling2d (Gl (None, 512)               0         \n",
            "_________________________________________________________________\n",
            "batch_normalization (BatchNo (None, 512)               2048      \n",
            "_________________________________________________________________\n",
            "flatten (Flatten)            (None, 512)               0         \n",
            "_________________________________________________________________\n",
            "dense (Dense)                (None, 256)               131328    \n",
            "_________________________________________________________________\n",
            "dense_1 (Dense)              (None, 256)               65792     \n",
            "_________________________________________________________________\n",
            "dense_2 (Dense)              (None, 128)               32896     \n",
            "_________________________________________________________________\n",
            "dropout (Dropout)            (None, 128)               0         \n",
            "_________________________________________________________________\n",
            "dense_3 (Dense)              (None, 10)                1290      \n",
            "=================================================================\n",
            "Total params: 20,257,738\n",
            "Trainable params: 232,330\n",
            "Non-trainable params: 20,025,408\n",
            "_________________________________________________________________\n",
            "Training with relu for 40 for fold 1 or 3\n",
            "Epoch 1/40\n",
            "1042/1042 [==============================] - 55s 24ms/step - loss: 1.5437 - categorical_crossentropy: 1.5437\n",
            "Epoch 2/40\n",
            "1042/1042 [==============================] - 25s 24ms/step - loss: 1.3318 - categorical_crossentropy: 1.3318\n",
            "Epoch 3/40\n",
            "1042/1042 [==============================] - 25s 24ms/step - loss: 1.2422 - categorical_crossentropy: 1.2422\n",
            "Epoch 4/40\n",
            "1042/1042 [==============================] - 25s 24ms/step - loss: 1.1700 - categorical_crossentropy: 1.1700\n",
            "Epoch 5/40\n",
            "1042/1042 [==============================] - 25s 24ms/step - loss: 1.1136 - categorical_crossentropy: 1.1136\n",
            "Epoch 6/40\n",
            "1042/1042 [==============================] - 25s 24ms/step - loss: 1.0516 - categorical_crossentropy: 1.0516\n",
            "Epoch 7/40\n",
            "1042/1042 [==============================] - 25s 24ms/step - loss: 1.0046 - categorical_crossentropy: 1.0046\n",
            "Epoch 8/40\n",
            "1042/1042 [==============================] - 25s 24ms/step - loss: 0.9471 - categorical_crossentropy: 0.9471\n",
            "Epoch 9/40\n",
            "1042/1042 [==============================] - 25s 24ms/step - loss: 0.9050 - categorical_crossentropy: 0.9050\n",
            "Epoch 10/40\n",
            "1042/1042 [==============================] - 25s 24ms/step - loss: 0.8634 - categorical_crossentropy: 0.8634\n",
            "Epoch 11/40\n",
            "1042/1042 [==============================] - 25s 24ms/step - loss: 0.8200 - categorical_crossentropy: 0.8200\n",
            "Epoch 12/40\n",
            "1042/1042 [==============================] - 25s 24ms/step - loss: 0.7831 - categorical_crossentropy: 0.7831\n",
            "Epoch 13/40\n",
            "1042/1042 [==============================] - 25s 24ms/step - loss: 0.7495 - categorical_crossentropy: 0.7495\n",
            "Epoch 14/40\n",
            "1042/1042 [==============================] - 25s 24ms/step - loss: 0.7170 - categorical_crossentropy: 0.7170\n",
            "Epoch 15/40\n",
            "1042/1042 [==============================] - 25s 24ms/step - loss: 0.6898 - categorical_crossentropy: 0.6898\n",
            "Epoch 16/40\n",
            "1042/1042 [==============================] - 25s 24ms/step - loss: 0.6589 - categorical_crossentropy: 0.6589\n",
            "Epoch 17/40\n",
            "1042/1042 [==============================] - 25s 24ms/step - loss: 0.6278 - categorical_crossentropy: 0.6278\n",
            "Epoch 18/40\n",
            "1042/1042 [==============================] - 25s 24ms/step - loss: 0.6108 - categorical_crossentropy: 0.6108\n",
            "Epoch 19/40\n",
            "1042/1042 [==============================] - 25s 24ms/step - loss: 0.5833 - categorical_crossentropy: 0.5833\n",
            "Epoch 20/40\n",
            "1042/1042 [==============================] - 25s 24ms/step - loss: 0.5716 - categorical_crossentropy: 0.5716\n",
            "Epoch 21/40\n",
            "1042/1042 [==============================] - 25s 24ms/step - loss: 0.5511 - categorical_crossentropy: 0.5511\n",
            "Epoch 22/40\n",
            "1042/1042 [==============================] - 25s 24ms/step - loss: 0.5325 - categorical_crossentropy: 0.5325\n",
            "Epoch 23/40\n",
            "1042/1042 [==============================] - 25s 24ms/step - loss: 0.5169 - categorical_crossentropy: 0.5169\n",
            "Epoch 24/40\n",
            "1042/1042 [==============================] - 25s 24ms/step - loss: 0.5057 - categorical_crossentropy: 0.5057\n",
            "Epoch 25/40\n",
            "1042/1042 [==============================] - 25s 24ms/step - loss: 0.4817 - categorical_crossentropy: 0.4817\n",
            "Epoch 26/40\n",
            "1042/1042 [==============================] - 25s 24ms/step - loss: 0.4849 - categorical_crossentropy: 0.4849\n",
            "Epoch 27/40\n",
            "1042/1042 [==============================] - 25s 24ms/step - loss: 0.4691 - categorical_crossentropy: 0.4691\n",
            "Epoch 28/40\n",
            "1042/1042 [==============================] - 25s 24ms/step - loss: 0.4493 - categorical_crossentropy: 0.4493\n",
            "Epoch 29/40\n",
            "1042/1042 [==============================] - 25s 24ms/step - loss: 0.4438 - categorical_crossentropy: 0.4438\n",
            "Epoch 30/40\n",
            "1042/1042 [==============================] - 25s 24ms/step - loss: 0.4348 - categorical_crossentropy: 0.4348\n",
            "Epoch 31/40\n",
            "1042/1042 [==============================] - 24s 24ms/step - loss: 0.4173 - categorical_crossentropy: 0.4173\n",
            "Epoch 32/40\n",
            "1042/1042 [==============================] - 24s 23ms/step - loss: 0.4116 - categorical_crossentropy: 0.4116\n",
            "Epoch 33/40\n",
            "1042/1042 [==============================] - 24s 23ms/step - loss: 0.4144 - categorical_crossentropy: 0.4144\n",
            "Epoch 34/40\n",
            "1042/1042 [==============================] - 24s 23ms/step - loss: 0.3915 - categorical_crossentropy: 0.3915\n",
            "Epoch 35/40\n",
            "1042/1042 [==============================] - 25s 24ms/step - loss: 0.3862 - categorical_crossentropy: 0.3862\n",
            "Epoch 36/40\n",
            "1042/1042 [==============================] - 24s 23ms/step - loss: 0.3843 - categorical_crossentropy: 0.3843\n",
            "Epoch 37/40\n",
            "1042/1042 [==============================] - 24s 23ms/step - loss: 0.3615 - categorical_crossentropy: 0.3615\n",
            "Epoch 38/40\n",
            "1042/1042 [==============================] - 24s 23ms/step - loss: 0.3596 - categorical_crossentropy: 0.3596\n",
            "Epoch 39/40\n",
            "1042/1042 [==============================] - 24s 23ms/step - loss: 0.3631 - categorical_crossentropy: 0.3631\n",
            "Epoch 40/40\n",
            "1042/1042 [==============================] - 24s 23ms/step - loss: 0.3514 - categorical_crossentropy: 0.3514\n",
            "\n",
            "Final Loss on training set: 0.593\n",
            "accuracy is 55.17%\n",
            "\n",
            "Training with relu for 40 for fold 2 or 3\n",
            "Epoch 1/40\n",
            "1042/1042 [==============================] - 25s 23ms/step - loss: 1.5413 - categorical_crossentropy: 1.5413\n",
            "Epoch 2/40\n",
            "1042/1042 [==============================] - 25s 24ms/step - loss: 1.3233 - categorical_crossentropy: 1.3233\n",
            "Epoch 3/40\n",
            "1042/1042 [==============================] - 25s 24ms/step - loss: 1.2403 - categorical_crossentropy: 1.2403\n",
            "Epoch 4/40\n",
            "1042/1042 [==============================] - 24s 23ms/step - loss: 1.1679 - categorical_crossentropy: 1.1679\n",
            "Epoch 5/40\n",
            "1042/1042 [==============================] - 25s 24ms/step - loss: 1.1070 - categorical_crossentropy: 1.1070\n",
            "Epoch 6/40\n",
            "1042/1042 [==============================] - 24s 23ms/step - loss: 1.0497 - categorical_crossentropy: 1.0497\n",
            "Epoch 7/40\n",
            "1042/1042 [==============================] - 25s 24ms/step - loss: 0.9969 - categorical_crossentropy: 0.9969\n",
            "Epoch 8/40\n",
            "1042/1042 [==============================] - 24s 23ms/step - loss: 0.9466 - categorical_crossentropy: 0.9466\n",
            "Epoch 9/40\n",
            "1042/1042 [==============================] - 25s 24ms/step - loss: 0.8994 - categorical_crossentropy: 0.8994\n",
            "Epoch 10/40\n",
            "1042/1042 [==============================] - 25s 24ms/step - loss: 0.8519 - categorical_crossentropy: 0.8519\n",
            "Epoch 11/40\n",
            "1042/1042 [==============================] - 25s 24ms/step - loss: 0.8171 - categorical_crossentropy: 0.8171\n",
            "Epoch 12/40\n",
            "1042/1042 [==============================] - 24s 23ms/step - loss: 0.7760 - categorical_crossentropy: 0.7760\n",
            "Epoch 13/40\n",
            "1042/1042 [==============================] - 25s 24ms/step - loss: 0.7425 - categorical_crossentropy: 0.7425\n",
            "Epoch 14/40\n",
            "1042/1042 [==============================] - 25s 24ms/step - loss: 0.7156 - categorical_crossentropy: 0.7156\n",
            "Epoch 15/40\n",
            "1042/1042 [==============================] - 25s 24ms/step - loss: 0.6843 - categorical_crossentropy: 0.6843\n",
            "Epoch 16/40\n",
            "1042/1042 [==============================] - 25s 24ms/step - loss: 0.6587 - categorical_crossentropy: 0.6587\n",
            "Epoch 17/40\n",
            "1042/1042 [==============================] - 25s 24ms/step - loss: 0.6318 - categorical_crossentropy: 0.6318\n",
            "Epoch 18/40\n",
            "1042/1042 [==============================] - 25s 24ms/step - loss: 0.6090 - categorical_crossentropy: 0.6090\n",
            "Epoch 19/40\n",
            "1042/1042 [==============================] - 25s 24ms/step - loss: 0.5763 - categorical_crossentropy: 0.5763\n",
            "Epoch 20/40\n",
            "1042/1042 [==============================] - 24s 24ms/step - loss: 0.5657 - categorical_crossentropy: 0.5657\n",
            "Epoch 21/40\n",
            "1042/1042 [==============================] - 25s 24ms/step - loss: 0.5497 - categorical_crossentropy: 0.5497\n",
            "Epoch 22/40\n",
            "1042/1042 [==============================] - 25s 24ms/step - loss: 0.5307 - categorical_crossentropy: 0.5307\n",
            "Epoch 23/40\n",
            "1042/1042 [==============================] - 25s 24ms/step - loss: 0.5240 - categorical_crossentropy: 0.5240\n",
            "Epoch 24/40\n",
            "1042/1042 [==============================] - 25s 24ms/step - loss: 0.5005 - categorical_crossentropy: 0.5005\n",
            "Epoch 25/40\n",
            "1042/1042 [==============================] - 24s 23ms/step - loss: 0.4801 - categorical_crossentropy: 0.4801\n",
            "Epoch 26/40\n",
            "1042/1042 [==============================] - 24s 23ms/step - loss: 0.4692 - categorical_crossentropy: 0.4692\n",
            "Epoch 27/40\n",
            "1042/1042 [==============================] - 24s 23ms/step - loss: 0.4609 - categorical_crossentropy: 0.4609\n",
            "Epoch 28/40\n",
            "1042/1042 [==============================] - 24s 23ms/step - loss: 0.4600 - categorical_crossentropy: 0.4600\n",
            "Epoch 29/40\n",
            "1042/1042 [==============================] - 24s 23ms/step - loss: 0.4400 - categorical_crossentropy: 0.4400\n",
            "Epoch 30/40\n",
            "1042/1042 [==============================] - 24s 23ms/step - loss: 0.4160 - categorical_crossentropy: 0.4160\n",
            "Epoch 31/40\n",
            "1042/1042 [==============================] - 24s 23ms/step - loss: 0.4219 - categorical_crossentropy: 0.4219\n",
            "Epoch 32/40\n",
            "1042/1042 [==============================] - 24s 23ms/step - loss: 0.4056 - categorical_crossentropy: 0.4056\n",
            "Epoch 33/40\n",
            "1042/1042 [==============================] - 24s 23ms/step - loss: 0.3944 - categorical_crossentropy: 0.3944\n",
            "Epoch 34/40\n",
            "1042/1042 [==============================] - 24s 23ms/step - loss: 0.3975 - categorical_crossentropy: 0.3975\n",
            "Epoch 35/40\n",
            "1042/1042 [==============================] - 25s 24ms/step - loss: 0.3814 - categorical_crossentropy: 0.3814\n",
            "Epoch 36/40\n",
            "1042/1042 [==============================] - 25s 24ms/step - loss: 0.3711 - categorical_crossentropy: 0.3711\n",
            "Epoch 37/40\n",
            "1042/1042 [==============================] - 25s 24ms/step - loss: 0.3703 - categorical_crossentropy: 0.3703\n",
            "Epoch 38/40\n",
            "1042/1042 [==============================] - 24s 23ms/step - loss: 0.3612 - categorical_crossentropy: 0.3612\n",
            "Epoch 39/40\n",
            "1042/1042 [==============================] - 24s 23ms/step - loss: 0.3562 - categorical_crossentropy: 0.3562\n",
            "Epoch 40/40\n",
            "1042/1042 [==============================] - 25s 24ms/step - loss: 0.3545 - categorical_crossentropy: 0.3545\n",
            "\n",
            "Final Loss on training set: 0.595\n",
            "accuracy is 54.80%\n",
            "\n",
            "Training with relu for 40 for fold 3 or 3\n",
            "Epoch 1/40\n",
            "1042/1042 [==============================] - 26s 23ms/step - loss: 1.5467 - categorical_crossentropy: 1.5467\n",
            "Epoch 2/40\n",
            "1042/1042 [==============================] - 24s 23ms/step - loss: 1.3288 - categorical_crossentropy: 1.3288\n",
            "Epoch 3/40\n",
            "1042/1042 [==============================] - 24s 23ms/step - loss: 1.2338 - categorical_crossentropy: 1.2338\n",
            "Epoch 4/40\n",
            "1042/1042 [==============================] - 24s 23ms/step - loss: 1.1657 - categorical_crossentropy: 1.1657\n",
            "Epoch 5/40\n",
            "1042/1042 [==============================] - 24s 23ms/step - loss: 1.1048 - categorical_crossentropy: 1.1048\n",
            "Epoch 6/40\n",
            "1042/1042 [==============================] - 24s 23ms/step - loss: 1.0438 - categorical_crossentropy: 1.0438\n",
            "Epoch 7/40\n",
            "1042/1042 [==============================] - 26s 25ms/step - loss: 0.9910 - categorical_crossentropy: 0.9910\n",
            "Epoch 8/40\n",
            "1042/1042 [==============================] - 26s 24ms/step - loss: 0.9437 - categorical_crossentropy: 0.9437\n",
            "Epoch 9/40\n",
            "1042/1042 [==============================] - 25s 24ms/step - loss: 0.9035 - categorical_crossentropy: 0.9035\n",
            "Epoch 10/40\n",
            "1042/1042 [==============================] - 26s 25ms/step - loss: 0.8537 - categorical_crossentropy: 0.8537\n",
            "Epoch 11/40\n",
            "1042/1042 [==============================] - 26s 25ms/step - loss: 0.8111 - categorical_crossentropy: 0.8111\n",
            "Epoch 12/40\n",
            "1042/1042 [==============================] - 25s 24ms/step - loss: 0.7715 - categorical_crossentropy: 0.7715\n",
            "Epoch 13/40\n",
            "1042/1042 [==============================] - 25s 24ms/step - loss: 0.7398 - categorical_crossentropy: 0.7398\n",
            "Epoch 14/40\n",
            "1042/1042 [==============================] - 26s 25ms/step - loss: 0.7116 - categorical_crossentropy: 0.7116\n",
            "Epoch 15/40\n",
            "1042/1042 [==============================] - 26s 25ms/step - loss: 0.6796 - categorical_crossentropy: 0.6796\n",
            "Epoch 16/40\n",
            "1042/1042 [==============================] - 26s 25ms/step - loss: 0.6511 - categorical_crossentropy: 0.6511\n",
            "Epoch 17/40\n",
            "1042/1042 [==============================] - 25s 24ms/step - loss: 0.6260 - categorical_crossentropy: 0.6260\n",
            "Epoch 18/40\n",
            "1042/1042 [==============================] - 26s 25ms/step - loss: 0.6062 - categorical_crossentropy: 0.6062\n",
            "Epoch 19/40\n",
            "1042/1042 [==============================] - 26s 25ms/step - loss: 0.5863 - categorical_crossentropy: 0.5863\n",
            "Epoch 20/40\n",
            "1042/1042 [==============================] - 26s 25ms/step - loss: 0.5578 - categorical_crossentropy: 0.5578\n",
            "Epoch 21/40\n",
            "1042/1042 [==============================] - 26s 25ms/step - loss: 0.5495 - categorical_crossentropy: 0.5495\n",
            "Epoch 22/40\n",
            "1042/1042 [==============================] - 25s 24ms/step - loss: 0.5172 - categorical_crossentropy: 0.5172\n",
            "Epoch 23/40\n",
            "1042/1042 [==============================] - 26s 24ms/step - loss: 0.5203 - categorical_crossentropy: 0.5203\n",
            "Epoch 24/40\n",
            "1042/1042 [==============================] - 26s 25ms/step - loss: 0.4982 - categorical_crossentropy: 0.4982\n",
            "Epoch 25/40\n",
            "1042/1042 [==============================] - 26s 25ms/step - loss: 0.4805 - categorical_crossentropy: 0.4805\n",
            "Epoch 26/40\n",
            "1042/1042 [==============================] - 26s 25ms/step - loss: 0.4674 - categorical_crossentropy: 0.4674\n",
            "Epoch 27/40\n",
            "1042/1042 [==============================] - 25s 24ms/step - loss: 0.4654 - categorical_crossentropy: 0.4654\n",
            "Epoch 28/40\n",
            "1042/1042 [==============================] - 25s 24ms/step - loss: 0.4507 - categorical_crossentropy: 0.4507\n",
            "Epoch 29/40\n",
            "1042/1042 [==============================] - 26s 25ms/step - loss: 0.4428 - categorical_crossentropy: 0.4428\n",
            "Epoch 30/40\n",
            "1042/1042 [==============================] - 26s 25ms/step - loss: 0.4275 - categorical_crossentropy: 0.4275\n",
            "Epoch 31/40\n",
            "1042/1042 [==============================] - 26s 25ms/step - loss: 0.4141 - categorical_crossentropy: 0.4141\n",
            "Epoch 32/40\n",
            "1042/1042 [==============================] - 25s 24ms/step - loss: 0.4059 - categorical_crossentropy: 0.4059\n",
            "Epoch 33/40\n",
            "1042/1042 [==============================] - 24s 23ms/step - loss: 0.4001 - categorical_crossentropy: 0.4001\n",
            "Epoch 34/40\n",
            "1042/1042 [==============================] - 24s 23ms/step - loss: 0.3869 - categorical_crossentropy: 0.3869\n",
            "Epoch 35/40\n",
            "1042/1042 [==============================] - 24s 23ms/step - loss: 0.3825 - categorical_crossentropy: 0.3825\n",
            "Epoch 36/40\n",
            "1042/1042 [==============================] - 24s 23ms/step - loss: 0.3717 - categorical_crossentropy: 0.3717\n",
            "Epoch 37/40\n",
            "1042/1042 [==============================] - 24s 23ms/step - loss: 0.3676 - categorical_crossentropy: 0.3676\n",
            "Epoch 38/40\n",
            "1042/1042 [==============================] - 24s 23ms/step - loss: 0.3618 - categorical_crossentropy: 0.3618\n",
            "Epoch 39/40\n",
            "1042/1042 [==============================] - 24s 23ms/step - loss: 0.3570 - categorical_crossentropy: 0.3570\n",
            "Epoch 40/40\n",
            "1042/1042 [==============================] - 24s 23ms/step - loss: 0.3508 - categorical_crossentropy: 0.3508\n",
            "\n",
            "Final Loss on training set: 0.592\n",
            "accuracy is 54.99%\n",
            "\n",
            "k-fold complete!\n"
          ]
        }
      ]
    },
    {
      "cell_type": "code",
      "metadata": {
        "colab": {
          "base_uri": "https://localhost:8080/"
        },
        "id": "t6SJya9hHpCv",
        "outputId": "d2f0d65c-899c-4410-b833-6389d7d568fb"
      },
      "source": [
        "print('Average Accuracy for {}-CV: {}% +/- {}% SD'.format(k, np.round(np.mean(ac)*100,2), np.round(np.std(ac)*100,2)))"
      ],
      "execution_count": null,
      "outputs": [
        {
          "output_type": "stream",
          "name": "stdout",
          "text": [
            "Average Accuracy for 3-CV: 54.99% +/- 0.15% SD\n"
          ]
        }
      ]
    },
    {
      "cell_type": "code",
      "metadata": {
        "colab": {
          "base_uri": "https://localhost:8080/"
        },
        "id": "bVtFvZmoHpOg",
        "outputId": "cc9f3017-1b84-408b-9e35-2c48c1f73b1f"
      },
      "source": [
        "acc_all = accuracy_score(y_test_max_all,y_pred_max_all)*100\n",
        "print('Accuracy: {:.2f}%'.format(acc_all))\n",
        "print()\n",
        "print(classification_report(y_test_max_all,y_pred_max_all)) \n",
        "print(confusion_matrix(y_test_max_all, y_pred_max_all))\n",
        "\n",
        "mcc_all = matthews_corrcoef(y_test_max_all,y_pred_max_all)\n",
        "print()\n",
        "print('Matthews Correlation Coefficient: {}'.format(mcc_all))"
      ],
      "execution_count": null,
      "outputs": [
        {
          "output_type": "stream",
          "name": "stdout",
          "text": [
            "Accuracy: 54.99%\n",
            "\n",
            "              precision    recall  f1-score   support\n",
            "\n",
            "           0       0.64      0.61      0.62      5000\n",
            "           1       0.60      0.59      0.60      5000\n",
            "           2       0.48      0.46      0.47      5000\n",
            "           3       0.37      0.40      0.38      5000\n",
            "           4       0.50      0.49      0.50      5000\n",
            "           5       0.47      0.44      0.46      5000\n",
            "           6       0.60      0.63      0.61      5000\n",
            "           7       0.59      0.62      0.61      5000\n",
            "           8       0.66      0.67      0.66      5000\n",
            "           9       0.58      0.59      0.59      5000\n",
            "\n",
            "    accuracy                           0.55     50000\n",
            "   macro avg       0.55      0.55      0.55     50000\n",
            "weighted avg       0.55      0.55      0.55     50000\n",
            "\n",
            "[[3027  187  376  173  168   94   72  142  547  214]\n",
            " [ 201 2961  105  200   76  131  141  101  327  757]\n",
            " [ 327  111 2324  455  485  363  442  258  145   90]\n",
            " [ 138  188  419 1993  330  903  440  262  121  206]\n",
            " [ 152   82  420  354 2475  248  430  594  126  119]\n",
            " [  79  120  357 1037  289 2221  327  400   37  133]\n",
            " [  60  160  333  503  325  259 3136   83   62   79]\n",
            " [  90   83  257  285  524  327   91 3098   39  206]\n",
            " [ 460  337  135  153  131   57   63   57 3329  278]\n",
            " [ 224  689   76  221  126  115   86  228  306 2929]]\n",
            "\n",
            "Matthews Correlation Coefficient: 0.4998924684213293\n"
          ]
        }
      ]
    },
    {
      "cell_type": "code",
      "metadata": {
        "colab": {
          "base_uri": "https://localhost:8080/",
          "height": 607
        },
        "id": "5_imHh3NHptd",
        "outputId": "58837c79-aeca-432a-c49d-652b0820f138"
      },
      "source": [
        "from matplotlib import pyplot as plt\n",
        "import seaborn as sns\n",
        "\n",
        "cm_all = np.sum(np.stack(cm,axis=2),axis=2)\n",
        "df_cm = pd.DataFrame(cm_all, columns=class_labels, index=class_labels)\n",
        "fig, ax1 = plt.subplots(1,1, figsize=(10,10))\n",
        "sns.heatmap(df_cm, annot=True, ax=ax1,square=True,  cmap=\"YlGnBu\",vmin=0,vmax=5000,fmt='d')\n",
        "ax1.set_title('Overall acc: {:.2f}% and mcc: {:.3f}'.format(acc_all,mcc_all))\n",
        "ax1.set_xlabel('Predicted')\n",
        "ax1.set_ylabel('Actual');"
      ],
      "execution_count": null,
      "outputs": [
        {
          "output_type": "display_data",
          "data": {
            "image/png": "[encoded data removed]",
            "text/plain": [
              "<Figure size 720x720 with 2 Axes>"
            ]
          },
          "metadata": {
            "needs_background": "light"
          }
        }
      ]
    }
  ]
}