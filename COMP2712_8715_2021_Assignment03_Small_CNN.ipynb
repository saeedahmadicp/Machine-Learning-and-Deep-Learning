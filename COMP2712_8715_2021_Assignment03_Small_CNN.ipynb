{
  "nbformat": 4,
  "nbformat_minor": 0,
  "metadata": {
    "colab": {
      "name": "COMP2712_8715_2021_Assignment03_Small_CNN",
      "provenance": [],
      "collapsed_sections": [],
      "include_colab_link": true
    },
    "kernelspec": {
      "name": "python3",
      "display_name": "Python 3"
    },
    "accelerator": "GPU"
  },
  "cells": [
    {
      "cell_type": "markdown",
      "metadata": {
        "id": "view-in-github",
        "colab_type": "text"
      },
      "source": [
        "<a href=\"https://colab.research.google.com/github/saeedahmadicp/Machine-Learning-and-Deep-Learning/blob/main/COMP2712_8715_2021_Assignment03_Small_CNN.ipynb\" target=\"_parent\"><img src=\"https://colab.research.google.com/assets/colab-badge.svg\" alt=\"Open In Colab\"/></a>"
      ]
    },
    {
      "cell_type": "markdown",
      "metadata": {
        "id": "KVDcdZVVIswy"
      },
      "source": [
        "# COMP2712_8715_2021 Assignment03: Classifying Images Using CNN \n",
        "\n",
        "##Part b) Small Convolutional Neural Network\n",
        "\n"
      ]
    },
    {
      "cell_type": "code",
      "metadata": {
        "id": "FqR-k4UDDltb",
        "colab": {
          "base_uri": "https://localhost:8080/"
        },
        "outputId": "5da5ef2e-9e8f-4866-c886-dd30717c8920"
      },
      "source": [
        "from google.colab import drive\n",
        "drive.mount('/content/drive')"
      ],
      "execution_count": null,
      "outputs": [
        {
          "output_type": "stream",
          "name": "stdout",
          "text": [
            "Mounted at /content/drive\n"
          ]
        }
      ]
    },
    {
      "cell_type": "markdown",
      "metadata": {
        "id": "3s7DsaxDI2im"
      },
      "source": [
        "## Functions to work with CIFAR\n",
        "\n",
        "The functions below help with access to the CIFAR-10 data the you have downloaded."
      ]
    },
    {
      "cell_type": "code",
      "metadata": {
        "id": "nUSVhQr5KDv1"
      },
      "source": [
        "import pickle\n",
        "import numpy as np\n",
        "import pandas as pd\n",
        "\n",
        "def load_CIFAR_batch(filename, flatten=True, categorical=True):\n",
        "    \"\"\" load single batch of cifar \"\"\"\n",
        "    with open(filename, 'rb') as f:\n",
        "        datadict = pickle.load(f, encoding='bytes')\n",
        "        X = datadict[b'data']        \n",
        "        X = X.reshape(10000, 3, 32, 32).transpose(0, 2, 3, 1).astype(\"float\")\n",
        "        if (flatten):\n",
        "          X = X.reshape(10000, 3072)\n",
        "        X = X.astype('float32')\n",
        "        X /= 255\n",
        "\n",
        "        y = datadict[b'labels']\n",
        "        y = np.array(y)\n",
        "        if (categorical):\n",
        "          y = pd.get_dummies(y).values\n",
        "\n",
        "        return X, y\n",
        "\n",
        "def load_CIFAR_meta(filename):\n",
        "  with open(filename,'rb') as f:\n",
        "    metadict = pickle.load(f, encoding='bytes')\n",
        "\n",
        "    class_labels = [ val.decode() for val in metadict.get(b'label_names') ]\n",
        "    return class_labels\n",
        "\n",
        "def get_image(X, index, nchans=3, size=32):\n",
        "  xi = X[index,:]\n",
        "  img = xi.reshape(32, 32, 3)\n",
        "  return img"
      ],
      "execution_count": null,
      "outputs": []
    },
    {
      "cell_type": "markdown",
      "metadata": {
        "id": "axqceDnNJVss"
      },
      "source": [
        "## Load the CIFAR data\n",
        "\n",
        "The CIFAR data has 5 batches of data and 1 test data set. Each batch is labelled\n",
        "- `data_batch_1`\n",
        "- `data_batch_2`\n",
        "- `data_batch_3`\n",
        "- `data_batch_4`\n",
        "- `data_batch_5`\n",
        "\n",
        "and a test set labelled\n",
        "- `test_batch`\n",
        "\n",
        "each batch has 10,000 images, so 50,000 training and 10,000 test images."
      ]
    },
    {
      "cell_type": "markdown",
      "metadata": {
        "id": "s2X0_Oz_SkHi"
      },
      "source": [
        "Below is example of loading the first batch of training data labelled as `data_batch_1`.  You will need to update the path to match where you have stored your cifar-10 data."
      ]
    },
    {
      "cell_type": "code",
      "metadata": {
        "id": "SudeLpyHCd-X",
        "colab": {
          "base_uri": "https://localhost:8080/"
        },
        "outputId": "8d594af5-ac7d-42ed-860c-36941b161f37"
      },
      "source": [
        "flatten = False\n",
        "categorical = True\n",
        "\n",
        "# load only the first batch\n",
        "X1, y1 = load_CIFAR_batch('/content/drive/MyDrive/Dataset/cifar-10-batches-py/data_batch_1',flatten=flatten,categorical=categorical)\n",
        "\n",
        "# load only the second batch\n",
        "#X2, y2 = load_CIFAR_batch('/content/drive/MyDrive/Dataset/cifar-10-batches-py/data_batch_2',flatten=flatten,categorical=categorical)\n",
        "\n",
        "# Load the first batch from CIFAR-10\n",
        "X, y = load_CIFAR_batch('/content/drive/MyDrive/Dataset/cifar-10-batches-py/data_batch_1',flatten=flatten,categorical=categorical)\n",
        "\n",
        "# iterate over 2 to 5\n",
        "for bi in range(2,6):\n",
        "  # load the next data set 'bi'\n",
        "  X2, y2 = load_CIFAR_batch('/content/drive/MyDrive/Dataset/cifar-10-batches-py/data_batch_{}'.format(bi),flatten=flatten,categorical=categorical)\n",
        "\n",
        "  # concatenate/stack the dataest together\n",
        "  X = np.vstack([X, X2])\n",
        "  y = np.vstack([y, y2])\n",
        "\n",
        "\n",
        "print('We have {} instances of images'.format(y.shape[0]))\n"
      ],
      "execution_count": null,
      "outputs": [
        {
          "output_type": "stream",
          "name": "stdout",
          "text": [
            "We have 50000 instances of images\n"
          ]
        }
      ]
    },
    {
      "cell_type": "markdown",
      "metadata": {
        "id": "oMUnAt_YKPjp"
      },
      "source": [
        "The number of instances/examples for all the different classes.  There are 10 different classes."
      ]
    },
    {
      "cell_type": "code",
      "metadata": {
        "id": "8-uX5AZmQG9N",
        "colab": {
          "base_uri": "https://localhost:8080/"
        },
        "outputId": "66297f71-266f-463c-bd9a-9c667ce4ee0a"
      },
      "source": [
        "[np.sum(np.argmax(y, axis=1) == i) for i in range(0,10)]"
      ],
      "execution_count": null,
      "outputs": [
        {
          "output_type": "execute_result",
          "data": {
            "text/plain": [
              "[5000, 5000, 5000, 5000, 5000, 5000, 5000, 5000, 5000, 5000]"
            ]
          },
          "metadata": {},
          "execution_count": 5
        }
      ]
    },
    {
      "cell_type": "markdown",
      "metadata": {
        "id": "fD_HIgldKlsd"
      },
      "source": [
        "The labels for the classes are stored in the `batches.meta` file"
      ]
    },
    {
      "cell_type": "code",
      "metadata": {
        "id": "-HKjGtxStmcz",
        "colab": {
          "base_uri": "https://localhost:8080/"
        },
        "outputId": "28cd38a0-a408-4e1f-9205-1c6d5d97738b"
      },
      "source": [
        "class_labels = load_CIFAR_meta('/content/drive/MyDrive/Dataset/cifar-10-batches-py/batches.meta')\n",
        "print(class_labels)"
      ],
      "execution_count": null,
      "outputs": [
        {
          "output_type": "stream",
          "name": "stdout",
          "text": [
            "['airplane', 'automobile', 'bird', 'cat', 'deer', 'dog', 'frog', 'horse', 'ship', 'truck']\n"
          ]
        }
      ]
    },
    {
      "cell_type": "markdown",
      "metadata": {
        "id": "AYNjse_BTLnx"
      },
      "source": [
        "Let's look at some random cat images, because cats."
      ]
    },
    {
      "cell_type": "code",
      "metadata": {
        "id": "zoI3IO7KTjMg"
      },
      "source": [
        "import random\n",
        "import matplotlib.pyplot as plt\n",
        "\n",
        "def plot_random(X, y, class_labels, what_target='cat'):\n",
        "\n",
        "  what_label = class_labels.index(what_target)\n",
        "  what_labeli = np.where(np.argmax(y,axis=1) == what_label)[0]\n",
        "  random_what_index = what_labeli[random.choice(range(len(what_labeli)))]\n",
        "\n",
        "  plt.imshow(get_image(X,random_what_index))\n",
        "  plt.title('{}, index: {}'.format(what_target,random_what_index))\n",
        "  plt.axis('off')"
      ],
      "execution_count": null,
      "outputs": []
    },
    {
      "cell_type": "code",
      "metadata": {
        "id": "6AiPII3JUm3R",
        "colab": {
          "base_uri": "https://localhost:8080/",
          "height": 264
        },
        "outputId": "6d3e9632-1582-4d5f-ba3b-fc96ce0d233b"
      },
      "source": [
        "plot_random(X, y, class_labels, what_target='cat')\n"
      ],
      "execution_count": null,
      "outputs": [
        {
          "output_type": "display_data",
          "data": {
            "image/png": "[encoded data removed]",
            "text/plain": [
              "<Figure size 432x288 with 1 Axes>"
            ]
          },
          "metadata": {
            "needs_background": "light"
          }
        }
      ]
    },
    {
      "cell_type": "markdown",
      "metadata": {
        "id": "v557teUwb50v"
      },
      "source": [
        "## Part b) Small Convolutional Neural Netowrk\n",
        "\n"
      ]
    },
    {
      "cell_type": "code",
      "metadata": {
        "id": "AZk2OEWpb83j"
      },
      "source": [
        "# TensorFlow and tf.keras\n",
        "import tensorflow as tf\n",
        "from tensorflow import keras\n",
        "from tensorflow.keras.layers import Dense, Conv2D, Flatten, MaxPooling2D, Input\n",
        "\n",
        "def build_small_cnn(number_of_output, input_shape):\n",
        "    model_cnn = keras.Sequential()\n",
        "    model_cnn.add(Input(input_shape))\n",
        "    \n",
        "    model_cnn.add(Conv2D(32, kernel_size=(5,5), activation=\"relu\"))\n",
        "    model_cnn.add(Conv2D(32, kernel_size=(3,3), activation=\"relu\"))\n",
        "    model_cnn.add(MaxPooling2D(pool_size=(2,2)))\n",
        "\n",
        "    model_cnn.add(Flatten())\n",
        "    model_cnn.add(Dense(128, activation='relu'))\n",
        "\n",
        "    #output layer for classification\n",
        "    model_cnn.add(Dense(number_of_output, activation='softmax'))\n",
        "    \n",
        "    model_cnn.compile(optimizer= tf.optimizers.Adam(),\n",
        "                      loss=keras.losses.categorical_crossentropy,\n",
        "                      metrics=keras.metrics.categorical_crossentropy)\n",
        "    return model_cnn"
      ],
      "execution_count": null,
      "outputs": []
    },
    {
      "cell_type": "markdown",
      "metadata": {
        "id": "0bmQvxzq2rjz"
      },
      "source": [
        "### Flatten the data\n",
        "The data is currently a 3D image, but for the simple model we require a 1D feature vector.  So, we need to flatten the data."
      ]
    },
    {
      "cell_type": "code",
      "metadata": {
        "id": "-5qBU8F32Uug",
        "colab": {
          "base_uri": "https://localhost:8080/"
        },
        "outputId": "131213a9-cd90-459c-a8e5-c70d24afc0b1"
      },
      "source": [
        "# we need to flatten the images for the simple model\n",
        "n_samples = len(X)\n",
        "X_flatten = X.reshape((n_samples, -1))\n",
        "\n",
        "print('The number of samples: {}'.format(n_samples))\n",
        "print('The old shape of the data: {}'.format(X.shape))\n",
        "print('The new shape of the data: {}'.format(X_flatten.shape))\n",
        "print('The shape of the y       : {}'.format(y.shape))"
      ],
      "execution_count": null,
      "outputs": [
        {
          "output_type": "stream",
          "name": "stdout",
          "text": [
            "The number of samples: 50000\n",
            "The old shape of the data: (50000, 32, 32, 3)\n",
            "The new shape of the data: (50000, 3072)\n",
            "The shape of the y       : (50000, 10)\n"
          ]
        }
      ]
    },
    {
      "cell_type": "markdown",
      "metadata": {
        "id": "CHQRFduHz1bd"
      },
      "source": [
        "### Train the model\n",
        "\n"
      ]
    },
    {
      "cell_type": "code",
      "metadata": {
        "id": "oZPXxhN2z02z",
        "colab": {
          "base_uri": "https://localhost:8080/"
        },
        "outputId": "b0299924-22bf-4411-864e-c9bba4fbf558"
      },
      "source": [
        "# sklearn evaluation packages\n",
        "from sklearn.model_selection import StratifiedKFold\n",
        "from sklearn.metrics import classification_report\n",
        "from sklearn.metrics import confusion_matrix\n",
        "from sklearn.metrics import accuracy_score\n",
        "from sklearn.metrics import matthews_corrcoef\n",
        "\n",
        "# use 5 epochs or iterations\n",
        "no_epochs = 5\n",
        "number_of_features = len(X_flatten[0])\n",
        "\n",
        "# with 50 nodes in the single hidden layer\n",
        "number_hidden_nodes = 50\n",
        "number_of_output = len(y[0])\n",
        "\n",
        "# relu is a good choice\n",
        "activation = 'relu' # select from [None, 'sigmoid', 'tanh', 'relu']:\n",
        "y_class = np.argmax(y, axis=1)\n",
        "\n",
        "# build a small cnn model\n",
        "model = build_small_cnn(number_of_output=number_of_output, input_shape=(32,32,3))\n",
        "model.summary()\n",
        "\n",
        "\n",
        "# Stratified K-Fold for evaluation of generalisation performance\n",
        "k = 5 # 10 is the gold standard\n",
        "kf = StratifiedKFold(n_splits=k)\n",
        "foldi = 1\n",
        "ac = [] # accuracy_score\n",
        "cr = [] # classification_report\n",
        "cm = [] # confusion_matrix\n",
        "y_test_max_all = []\n",
        "y_pred_max_all = []\n",
        "\n",
        "\n",
        "for train_index, test_index in kf.split(X,y_class):\n",
        "  X_train, X_test, y_train, y_test = X[train_index,:], X[test_index,:], y[train_index,:], y[test_index,:]\n",
        "\n",
        "  model = build_small_cnn(number_of_output=number_of_output, input_shape=(32,32,3))\n",
        "\n",
        "  print('Training with {0} for {1} for fold {2} or {3}'.format(activation, no_epochs, foldi, k))\n",
        "  history = model.fit(X_train, y_train, epochs=no_epochs, verbose=1)\n",
        "\n",
        "  hist = pd.DataFrame(history.history)\n",
        "  hist['epoch'] = history.epoch\n",
        "\n",
        "\n",
        "  loss_final = np.sqrt(float(hist['loss'].tail(1)))\n",
        "  print()\n",
        "  print('Final Loss on training set: {}'.format(round(loss_final, 3)))\n",
        "\n",
        "  # evaluate the model\n",
        "  y_pred_real = model.predict(X_test)\n",
        "  y_pred_max = np.argmax(y_pred_real, axis=-1).astype(int)\n",
        "  y_test_max = y_test.argmax(axis=1).astype(int)\n",
        "\n",
        "  y_pred_max_all.extend(y_pred_max)\n",
        "  y_test_max_all.extend(y_test_max)\n",
        "\n",
        "  ac.append(accuracy_score(y_test_max,y_pred_max))\n",
        "  print('accuracy is {:.2f}%'.format(ac[-1]*100)) # Print accuracy score\n",
        "  print()\n",
        "  cr.append(classification_report(y_test_max,y_pred_max)) # Print summary report\n",
        "  cm.append(confusion_matrix(y_test_max, y_pred_max))\n",
        "  \n",
        "  foldi = foldi + 1\n",
        "\n",
        "print('k-fold complete!')"
      ],
      "execution_count": null,
      "outputs": [
        {
          "output_type": "stream",
          "name": "stdout",
          "text": [
            "Model: \"sequential_9\"\n",
            "_________________________________________________________________\n",
            "Layer (type)                 Output Shape              Param #   \n",
            "=================================================================\n",
            "conv2d_14 (Conv2D)           (None, 28, 28, 32)        2432      \n",
            "_________________________________________________________________\n",
            "conv2d_15 (Conv2D)           (None, 26, 26, 32)        9248      \n",
            "_________________________________________________________________\n",
            "max_pooling2d_9 (MaxPooling2 (None, 13, 13, 32)        0         \n",
            "_________________________________________________________________\n",
            "flatten_9 (Flatten)          (None, 5408)              0         \n",
            "_________________________________________________________________\n",
            "dense_18 (Dense)             (None, 128)               692352    \n",
            "_________________________________________________________________\n",
            "dense_19 (Dense)             (None, 10)                1290      \n",
            "=================================================================\n",
            "Total params: 705,322\n",
            "Trainable params: 705,322\n",
            "Non-trainable params: 0\n",
            "_________________________________________________________________\n",
            "Training with relu for 5 for fold 1 or 5\n",
            "Epoch 1/5\n",
            "1250/1250 [==============================] - 11s 8ms/step - loss: 1.4737 - categorical_crossentropy: 1.4737\n",
            "Epoch 2/5\n",
            "1250/1250 [==============================] - 10s 8ms/step - loss: 1.1321 - categorical_crossentropy: 1.1321\n",
            "Epoch 3/5\n",
            "1250/1250 [==============================] - 11s 8ms/step - loss: 0.9619 - categorical_crossentropy: 0.9619\n",
            "Epoch 4/5\n",
            "1250/1250 [==============================] - 10s 8ms/step - loss: 0.8292 - categorical_crossentropy: 0.8292\n",
            "Epoch 5/5\n",
            "1250/1250 [==============================] - 10s 8ms/step - loss: 0.7065 - categorical_crossentropy: 0.7065\n",
            "\n",
            "Final Loss on training set: 0.841\n",
            "accuracy is 64.82%\n",
            "\n",
            "Training with relu for 5 for fold 2 or 5\n",
            "Epoch 1/5\n",
            "1250/1250 [==============================] - 10s 8ms/step - loss: 1.4940 - categorical_crossentropy: 1.4940\n",
            "Epoch 2/5\n",
            "1250/1250 [==============================] - 10s 8ms/step - loss: 1.1452 - categorical_crossentropy: 1.1452\n",
            "Epoch 3/5\n",
            "1250/1250 [==============================] - 10s 8ms/step - loss: 0.9746 - categorical_crossentropy: 0.9746\n",
            "Epoch 4/5\n",
            "1250/1250 [==============================] - 10s 8ms/step - loss: 0.8383 - categorical_crossentropy: 0.8383\n",
            "Epoch 5/5\n",
            "1250/1250 [==============================] - 10s 8ms/step - loss: 0.7171 - categorical_crossentropy: 0.7171\n",
            "\n",
            "Final Loss on training set: 0.847\n",
            "accuracy is 64.17%\n",
            "\n",
            "Training with relu for 5 for fold 3 or 5\n",
            "Epoch 1/5\n",
            "1250/1250 [==============================] - 11s 8ms/step - loss: 1.5055 - categorical_crossentropy: 1.5055\n",
            "Epoch 2/5\n",
            "1250/1250 [==============================] - 10s 8ms/step - loss: 1.1525 - categorical_crossentropy: 1.1525\n",
            "Epoch 3/5\n",
            "1250/1250 [==============================] - 11s 9ms/step - loss: 0.9798 - categorical_crossentropy: 0.9798\n",
            "Epoch 4/5\n",
            "1250/1250 [==============================] - 11s 9ms/step - loss: 0.8452 - categorical_crossentropy: 0.8452\n",
            "Epoch 5/5\n",
            "1250/1250 [==============================] - 11s 9ms/step - loss: 0.7267 - categorical_crossentropy: 0.7267\n",
            "\n",
            "Final Loss on training set: 0.852\n",
            "accuracy is 64.41%\n",
            "\n",
            "Training with relu for 5 for fold 4 or 5\n",
            "Epoch 1/5\n",
            "1250/1250 [==============================] - 11s 8ms/step - loss: 1.4699 - categorical_crossentropy: 1.4699\n",
            "Epoch 2/5\n",
            "1250/1250 [==============================] - 11s 9ms/step - loss: 1.1089 - categorical_crossentropy: 1.1089\n",
            "Epoch 3/5\n",
            "1250/1250 [==============================] - 11s 8ms/step - loss: 0.9208 - categorical_crossentropy: 0.9208\n",
            "Epoch 4/5\n",
            "1250/1250 [==============================] - 10s 8ms/step - loss: 0.7759 - categorical_crossentropy: 0.7759\n",
            "Epoch 5/5\n",
            "1250/1250 [==============================] - 10s 8ms/step - loss: 0.6365 - categorical_crossentropy: 0.6365\n",
            "\n",
            "Final Loss on training set: 0.798\n",
            "accuracy is 64.66%\n",
            "\n",
            "Training with relu for 5 for fold 5 or 5\n",
            "Epoch 1/5\n",
            "1250/1250 [==============================] - 11s 8ms/step - loss: 1.4919 - categorical_crossentropy: 1.4919\n",
            "Epoch 2/5\n",
            "1250/1250 [==============================] - 10s 8ms/step - loss: 1.1432 - categorical_crossentropy: 1.1432\n",
            "Epoch 3/5\n",
            "1250/1250 [==============================] - 11s 9ms/step - loss: 0.9611 - categorical_crossentropy: 0.9611\n",
            "Epoch 4/5\n",
            "1250/1250 [==============================] - 11s 9ms/step - loss: 0.8248 - categorical_crossentropy: 0.8248\n",
            "Epoch 5/5\n",
            "1250/1250 [==============================] - 10s 8ms/step - loss: 0.7059 - categorical_crossentropy: 0.7059\n",
            "\n",
            "Final Loss on training set: 0.84\n",
            "accuracy is 64.65%\n",
            "\n",
            "k-fold complete!\n"
          ]
        }
      ]
    },
    {
      "cell_type": "code",
      "metadata": {
        "id": "0WFeY2vr-AI9",
        "colab": {
          "base_uri": "https://localhost:8080/"
        },
        "outputId": "a7bb5dd6-d81d-44aa-d671-2fb8b06f2722"
      },
      "source": [
        "print('Average Accuracy for {}-CV: {}% +/- {}% SD'.format(k, np.round(np.mean(ac)*100,2), np.round(np.std(ac)*100,2)))"
      ],
      "execution_count": null,
      "outputs": [
        {
          "output_type": "stream",
          "name": "stdout",
          "text": [
            "Average Accuracy for 5-CV: 64.54% +/- 0.23% SD\n"
          ]
        }
      ]
    },
    {
      "cell_type": "code",
      "metadata": {
        "colab": {
          "base_uri": "https://localhost:8080/"
        },
        "id": "Lwysr2B4Szvc",
        "outputId": "9a26085a-5ba9-46bb-dfb3-8eec640fde27"
      },
      "source": [
        "acc_all = accuracy_score(y_test_max_all,y_pred_max_all)*100\n",
        "print('Accuracy: {:.2f}%'.format(acc_all))\n",
        "print()\n",
        "print(classification_report(y_test_max_all,y_pred_max_all)) \n",
        "print(confusion_matrix(y_test_max_all, y_pred_max_all))\n",
        "\n",
        "mcc_all = matthews_corrcoef(y_test_max_all,y_pred_max_all)\n",
        "print()\n",
        "print('Matthews Correlation Coefficient: {}'.format(mcc_all))"
      ],
      "execution_count": null,
      "outputs": [
        {
          "output_type": "stream",
          "name": "stdout",
          "text": [
            "Accuracy: 64.54%\n",
            "\n",
            "              precision    recall  f1-score   support\n",
            "\n",
            "           0       0.67      0.71      0.68      5000\n",
            "           1       0.77      0.75      0.76      5000\n",
            "           2       0.53      0.53      0.53      5000\n",
            "           3       0.48      0.41      0.44      5000\n",
            "           4       0.55      0.60      0.58      5000\n",
            "           5       0.57      0.51      0.54      5000\n",
            "           6       0.65      0.76      0.70      5000\n",
            "           7       0.73      0.69      0.71      5000\n",
            "           8       0.74      0.79      0.76      5000\n",
            "           9       0.74      0.72      0.73      5000\n",
            "\n",
            "    accuracy                           0.65     50000\n",
            "   macro avg       0.64      0.65      0.64     50000\n",
            "weighted avg       0.64      0.65      0.64     50000\n",
            "\n",
            "[[3526  124  308   97  134   40   60   68  443  200]\n",
            " [ 189 3760   57   51   39   25   78   30  253  518]\n",
            " [ 363   57 2648  295  592  316  404  156  104   65]\n",
            " [ 139   67  442 2033  398  900  587  217  130   87]\n",
            " [ 199   28  473  274 3023  171  356  360   69   47]\n",
            " [  89   26  412  831  342 2542  340  314   58   46]\n",
            " [  44   57  274  249  338  132 3776   38   51   41]\n",
            " [  98   29  225  254  498  249   77 3439   39   92]\n",
            " [ 444  188   86   49   44   37   44   24 3945  139]\n",
            " [ 210  536   64   98   46   46   88   90  243 3579]]\n",
            "\n",
            "Matthews Correlation Coefficient: 0.6063013149463176\n"
          ]
        }
      ]
    },
    {
      "cell_type": "code",
      "metadata": {
        "id": "OCHxfSKQ-WF-",
        "colab": {
          "base_uri": "https://localhost:8080/",
          "height": 607
        },
        "outputId": "30246723-5dfc-4fab-e116-0ed88ea79bd9"
      },
      "source": [
        "from matplotlib import pyplot as plt\n",
        "import seaborn as sns\n",
        "\n",
        "cm_all = np.sum(np.stack(cm,axis=2),axis=2)\n",
        "df_cm = pd.DataFrame(cm_all, columns=class_labels, index=class_labels)\n",
        "fig, ax1 = plt.subplots(1,1, figsize=(10,10))\n",
        "sns.heatmap(df_cm, annot=True, ax=ax1,square=True,  cmap=\"YlGnBu\",vmin=0,vmax=5000,fmt='d')\n",
        "ax1.set_title('Overall acc: {:.2f}% and mcc: {:.3f}'.format(acc_all,mcc_all))\n",
        "ax1.set_xlabel('Predicted')\n",
        "ax1.set_ylabel('Actual');"
      ],
      "execution_count": null,
      "outputs": [
        {
          "output_type": "display_data",
          "data": {
            "image/png": "[encoded data removed]",
            "text/plain": [
              "<Figure size 720x720 with 2 Axes>"
            ]
          },
          "metadata": {
            "needs_background": "light"
          }
        }
      ]
    }
  ]
}