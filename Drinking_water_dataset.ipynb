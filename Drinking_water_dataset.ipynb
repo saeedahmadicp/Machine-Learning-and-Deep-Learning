{
  "nbformat": 4,
  "nbformat_minor": 5,
  "metadata": {
    "kernelspec": {
      "display_name": "Python 3",
      "language": "python",
      "name": "python3"
    },
    "language_info": {
      "codemirror_mode": {
        "name": "ipython",
        "version": 3
      },
      "file_extension": ".py",
      "mimetype": "text/x-python",
      "name": "python",
      "nbconvert_exporter": "python",
      "pygments_lexer": "ipython3",
      "version": "3.8.5"
    },
    "colab": {
      "name": "Drinking_water_dataset.ipynb",
      "provenance": [],
      "collapsed_sections": [],
      "include_colab_link": true
    }
  },
  "cells": [
    {
      "cell_type": "markdown",
      "metadata": {
        "id": "view-in-github",
        "colab_type": "text"
      },
      "source": [
        "<a href=\"https://colab.research.google.com/github/saeedahmadicp/Machine-Learning/blob/main/Drinking_water_dataset.ipynb\" target=\"_parent\"><img src=\"https://colab.research.google.com/assets/colab-badge.svg\" alt=\"Open In Colab\"/></a>"
      ]
    },
    {
      "cell_type": "markdown",
      "metadata": {
        "id": "5ggtj2Lf11rv"
      },
      "source": [
        "**Methodoloy** \n",
        "\n",
        "In this code file, we have applied the following methodoly; \n",
        "\n",
        "1) First of all we have imported the necessary libraries required for the project\n",
        "\n",
        "2) We have then imported the dataset, which we have downloaded manually from the kaggle website: https://www.kaggle.com/balavashan/drinking-water-dataset?select=Drinking_water.csv\n",
        "\n",
        "3) We have done some preprocessing to our dataset \n",
        "\n",
        "4) We have then split the dataset to train and test data through two different statistics methods i.e. random sampling and stratified sampling \n",
        "\n",
        "5) then we have train our model\n",
        "\n",
        "6) finally then we have evalute the model "
      ],
      "id": "5ggtj2Lf11rv"
    },
    {
      "cell_type": "markdown",
      "metadata": {
        "id": "t3X4pJ6B3IMe"
      },
      "source": [
        "**Part A: importing the libraries**\n",
        "\n",
        "\n",
        "In this part we have imported all the necessary packages required for our model"
      ],
      "id": "t3X4pJ6B3IMe"
    },
    {
      "cell_type": "code",
      "metadata": {
        "id": "72eea6b3"
      },
      "source": [
        "#first of all we will import the libraries we need for this project\n",
        "\n",
        "#pandas will be used for loading and preprocessing of the dataset\n",
        "import pandas as pd\n",
        "\n",
        "#numpy will be also used for the preprocessing of the dataset \n",
        "import numpy as np\n",
        "\n",
        "#from the sklearn.ensemble we imported the Random Forest classifier, which we will use for our dataset classification\n",
        "from sklearn.ensemble import RandomForestClassifier\n",
        "\n",
        "#other classifier\n",
        "from sklearn.tree import DecisionTreeClassifier\n",
        "from sklearn.linear_model import LogisticRegression\n",
        "\n",
        "#the seaborn and matplotlib libraries will be used for visualizing the datasets \n",
        "import seaborn as sns\n",
        "import matplotlib.pyplot as plt\n",
        "\n",
        "#the metrics modules will be used for evaluting the model\n",
        "from sklearn import metrics\n",
        "\n",
        "#module for spliting the test and train data\n",
        "from sklearn.model_selection import train_test_split\n",
        "\n",
        "#modules for data(i.e. features) standardization\n",
        "from sklearn.preprocessing import StandardScaler\n",
        "\n",
        "#ExtraTreesClassifer for the features engineering\n",
        "from sklearn.ensemble import ExtraTreesClassifier\n"
      ],
      "id": "72eea6b3",
      "execution_count": null,
      "outputs": []
    },
    {
      "cell_type": "markdown",
      "metadata": {
        "id": "WdKdtgtS3oE0"
      },
      "source": [
        "**Part B: Loading the dataset**"
      ],
      "id": "WdKdtgtS3oE0"
    },
    {
      "cell_type": "code",
      "metadata": {
        "id": "bb98ce3e"
      },
      "source": [
        "#path of the dataset\n",
        "path = \"Drinking_water.csv\""
      ],
      "id": "bb98ce3e",
      "execution_count": null,
      "outputs": []
    },
    {
      "cell_type": "code",
      "metadata": {
        "id": "ANlYC7-IDDzs"
      },
      "source": [
        "#loading the dataset\n",
        "data = pd.read_csv(path)"
      ],
      "id": "ANlYC7-IDDzs",
      "execution_count": null,
      "outputs": []
    },
    {
      "cell_type": "markdown",
      "metadata": {
        "id": "LrOZ4omM3u8G"
      },
      "source": [
        "**Part C: Showing some statistics of the dataset**"
      ],
      "id": "LrOZ4omM3u8G"
    },
    {
      "cell_type": "code",
      "metadata": {
        "colab": {
          "base_uri": "https://localhost:8080/"
        },
        "id": "0WJKaZo-hGir",
        "outputId": "c81b3bbb-5080-40e7-e361-ff3a1c451381"
      },
      "source": [
        "#printing the shape of the data\n",
        "data.shape"
      ],
      "id": "0WJKaZo-hGir",
      "execution_count": null,
      "outputs": [
        {
          "output_type": "execute_result",
          "data": {
            "text/plain": [
              "(3276, 13)"
            ]
          },
          "metadata": {},
          "execution_count": 6
        }
      ]
    },
    {
      "cell_type": "code",
      "metadata": {
        "colab": {
          "base_uri": "https://localhost:8080/",
          "height": 241
        },
        "id": "0myZ3ALRDP9w",
        "outputId": "76899ba3-644d-4508-8703-20cbec6f1db9"
      },
      "source": [
        "#printing the head (top five values) of the dataset\n",
        "data.head()"
      ],
      "id": "0myZ3ALRDP9w",
      "execution_count": null,
      "outputs": [
        {
          "output_type": "execute_result",
          "data": {
            "text/html": [
              "<div>\n",
              "<style scoped>\n",
              "    .dataframe tbody tr th:only-of-type {\n",
              "        vertical-align: middle;\n",
              "    }\n",
              "\n",
              "    .dataframe tbody tr th {\n",
              "        vertical-align: top;\n",
              "    }\n",
              "\n",
              "    .dataframe thead th {\n",
              "        text-align: right;\n",
              "    }\n",
              "</style>\n",
              "<table border=\"1\" class=\"dataframe\">\n",
              "  <thead>\n",
              "    <tr style=\"text-align: right;\">\n",
              "      <th></th>\n",
              "      <th>Unnamed: 0</th>\n",
              "      <th>ph</th>\n",
              "      <th>Hardness</th>\n",
              "      <th>Solids</th>\n",
              "      <th>Chloramines</th>\n",
              "      <th>Sulfate</th>\n",
              "      <th>Conductivity</th>\n",
              "      <th>Organic_carbon</th>\n",
              "      <th>Trihalomethanes</th>\n",
              "      <th>Turbidity</th>\n",
              "      <th>Potability</th>\n",
              "      <th>Carcinogenics</th>\n",
              "      <th>medical_waste</th>\n",
              "    </tr>\n",
              "  </thead>\n",
              "  <tbody>\n",
              "    <tr>\n",
              "      <th>0</th>\n",
              "      <td>0</td>\n",
              "      <td>NaN</td>\n",
              "      <td>204.890456</td>\n",
              "      <td>20791.31898</td>\n",
              "      <td>7.300212</td>\n",
              "      <td>368.516441</td>\n",
              "      <td>564.308654</td>\n",
              "      <td>10.379783</td>\n",
              "      <td>86.990970</td>\n",
              "      <td>2.963135</td>\n",
              "      <td>0</td>\n",
              "      <td>NaN</td>\n",
              "      <td>NaN</td>\n",
              "    </tr>\n",
              "    <tr>\n",
              "      <th>1</th>\n",
              "      <td>1</td>\n",
              "      <td>3.716080</td>\n",
              "      <td>129.422921</td>\n",
              "      <td>18630.05786</td>\n",
              "      <td>6.635246</td>\n",
              "      <td>NaN</td>\n",
              "      <td>592.885359</td>\n",
              "      <td>15.180013</td>\n",
              "      <td>56.329076</td>\n",
              "      <td>4.500656</td>\n",
              "      <td>0</td>\n",
              "      <td>NaN</td>\n",
              "      <td>NaN</td>\n",
              "    </tr>\n",
              "    <tr>\n",
              "      <th>2</th>\n",
              "      <td>2</td>\n",
              "      <td>8.099124</td>\n",
              "      <td>224.236259</td>\n",
              "      <td>19909.54173</td>\n",
              "      <td>9.275884</td>\n",
              "      <td>NaN</td>\n",
              "      <td>418.606213</td>\n",
              "      <td>16.868637</td>\n",
              "      <td>66.420093</td>\n",
              "      <td>3.055934</td>\n",
              "      <td>0</td>\n",
              "      <td>NaN</td>\n",
              "      <td>NaN</td>\n",
              "    </tr>\n",
              "    <tr>\n",
              "      <th>3</th>\n",
              "      <td>3</td>\n",
              "      <td>8.316766</td>\n",
              "      <td>214.373394</td>\n",
              "      <td>22018.41744</td>\n",
              "      <td>8.059332</td>\n",
              "      <td>356.886136</td>\n",
              "      <td>363.266516</td>\n",
              "      <td>18.436525</td>\n",
              "      <td>100.341674</td>\n",
              "      <td>4.628771</td>\n",
              "      <td>0</td>\n",
              "      <td>NaN</td>\n",
              "      <td>NaN</td>\n",
              "    </tr>\n",
              "    <tr>\n",
              "      <th>4</th>\n",
              "      <td>4</td>\n",
              "      <td>9.092223</td>\n",
              "      <td>181.101509</td>\n",
              "      <td>17978.98634</td>\n",
              "      <td>6.546600</td>\n",
              "      <td>310.135738</td>\n",
              "      <td>398.410813</td>\n",
              "      <td>11.558279</td>\n",
              "      <td>31.997993</td>\n",
              "      <td>4.075075</td>\n",
              "      <td>0</td>\n",
              "      <td>NaN</td>\n",
              "      <td>NaN</td>\n",
              "    </tr>\n",
              "  </tbody>\n",
              "</table>\n",
              "</div>"
            ],
            "text/plain": [
              "   Unnamed: 0        ph    Hardness  ...  Potability  Carcinogenics  medical_waste\n",
              "0           0       NaN  204.890456  ...           0            NaN            NaN\n",
              "1           1  3.716080  129.422921  ...           0            NaN            NaN\n",
              "2           2  8.099124  224.236259  ...           0            NaN            NaN\n",
              "3           3  8.316766  214.373394  ...           0            NaN            NaN\n",
              "4           4  9.092223  181.101509  ...           0            NaN            NaN\n",
              "\n",
              "[5 rows x 13 columns]"
            ]
          },
          "metadata": {},
          "execution_count": 7
        }
      ]
    },
    {
      "cell_type": "code",
      "metadata": {
        "colab": {
          "base_uri": "https://localhost:8080/"
        },
        "id": "9BIUIHt7DR8r",
        "outputId": "6c25fc66-dfeb-489f-a07e-bf61d576c8c8"
      },
      "source": [
        "#printing the name of the columns present in the dataset\n",
        "data.columns"
      ],
      "id": "9BIUIHt7DR8r",
      "execution_count": null,
      "outputs": [
        {
          "output_type": "execute_result",
          "data": {
            "text/plain": [
              "Index(['Unnamed: 0', 'ph', 'Hardness', 'Solids', 'Chloramines', 'Sulfate',\n",
              "       'Conductivity', 'Organic_carbon', 'Trihalomethanes', 'Turbidity',\n",
              "       'Potability', 'Carcinogenics', 'medical_waste'],\n",
              "      dtype='object')"
            ]
          },
          "metadata": {},
          "execution_count": 8
        }
      ]
    },
    {
      "cell_type": "code",
      "metadata": {
        "colab": {
          "base_uri": "https://localhost:8080/"
        },
        "id": "jT5mcrBsDYjr",
        "outputId": "e8bfd41a-aa11-4402-a945-a85c8c7664b9"
      },
      "source": [
        "#counting the values of each specie in the dataset\n",
        "data['Potability'].value_counts()"
      ],
      "id": "jT5mcrBsDYjr",
      "execution_count": null,
      "outputs": [
        {
          "output_type": "execute_result",
          "data": {
            "text/plain": [
              "0    1998\n",
              "1    1278\n",
              "Name: Potability, dtype: int64"
            ]
          },
          "metadata": {},
          "execution_count": 9
        }
      ]
    },
    {
      "cell_type": "code",
      "metadata": {
        "colab": {
          "base_uri": "https://localhost:8080/"
        },
        "id": "pqAb41L9Dfjq",
        "outputId": "13958a01-ccff-478e-cc33-bc0642686d17"
      },
      "source": [
        "#printing information about the dataset\n",
        "data.info()"
      ],
      "id": "pqAb41L9Dfjq",
      "execution_count": null,
      "outputs": [
        {
          "output_type": "stream",
          "text": [
            "<class 'pandas.core.frame.DataFrame'>\n",
            "RangeIndex: 3276 entries, 0 to 3275\n",
            "Data columns (total 13 columns):\n",
            " #   Column           Non-Null Count  Dtype  \n",
            "---  ------           --------------  -----  \n",
            " 0   Unnamed: 0       3276 non-null   int64  \n",
            " 1   ph               2785 non-null   float64\n",
            " 2   Hardness         3276 non-null   float64\n",
            " 3   Solids           3276 non-null   float64\n",
            " 4   Chloramines      3276 non-null   float64\n",
            " 5   Sulfate          2495 non-null   float64\n",
            " 6   Conductivity     3276 non-null   float64\n",
            " 7   Organic_carbon   3276 non-null   float64\n",
            " 8   Trihalomethanes  3114 non-null   float64\n",
            " 9   Turbidity        3276 non-null   float64\n",
            " 10  Potability       3276 non-null   int64  \n",
            " 11  Carcinogenics    0 non-null      float64\n",
            " 12  medical_waste    0 non-null      float64\n",
            "dtypes: float64(11), int64(2)\n",
            "memory usage: 332.8 KB\n"
          ],
          "name": "stdout"
        }
      ]
    },
    {
      "cell_type": "code",
      "metadata": {
        "colab": {
          "base_uri": "https://localhost:8080/"
        },
        "id": "_jR2dUuvpL9A",
        "outputId": "41ffb246-ac14-474e-cc6d-f2ff2d60c7a6"
      },
      "source": [
        "#looking for null values \n",
        "data.isnull().sum()"
      ],
      "id": "_jR2dUuvpL9A",
      "execution_count": null,
      "outputs": [
        {
          "output_type": "execute_result",
          "data": {
            "text/plain": [
              "Unnamed: 0            0\n",
              "ph                  491\n",
              "Hardness              0\n",
              "Solids                0\n",
              "Chloramines           0\n",
              "Sulfate             781\n",
              "Conductivity          0\n",
              "Organic_carbon        0\n",
              "Trihalomethanes     162\n",
              "Turbidity             0\n",
              "Potability            0\n",
              "Carcinogenics      3276\n",
              "medical_waste      3276\n",
              "dtype: int64"
            ]
          },
          "metadata": {},
          "execution_count": 11
        }
      ]
    },
    {
      "cell_type": "markdown",
      "metadata": {
        "id": "qqegA9jzrNxi"
      },
      "source": [
        "**Data Cleaning**\n",
        "\n",
        "In this step, I have removed the unnecessay columns and filled the null values of each column with their mean value"
      ],
      "id": "qqegA9jzrNxi"
    },
    {
      "cell_type": "code",
      "metadata": {
        "id": "0Fx4yp91q9ph"
      },
      "source": [
        "#removing the unnmamed columns which contains just indexing of each row, so no need for it\n",
        "data = data.drop(['Unnamed: 0'], axis=1)"
      ],
      "id": "0Fx4yp91q9ph",
      "execution_count": null,
      "outputs": []
    },
    {
      "cell_type": "code",
      "metadata": {
        "id": "q4V321PVf5oY"
      },
      "source": [
        "#removing the unneccesary columns,\n",
        "# as our dataset contain two columns having all values not an integer(NAN), so I will removed it:\n",
        "data = data.drop(['Carcinogenics', 'medical_waste'], axis=1)"
      ],
      "id": "q4V321PVf5oY",
      "execution_count": null,
      "outputs": []
    },
    {
      "cell_type": "markdown",
      "metadata": {
        "id": "zOrwvppsqlTU"
      },
      "source": [
        "**Filling the null values**\n",
        "\n",
        "There are three columns in our dataset, having some of their values as null, so we have to fill it. So I am going to fill it with the mean value of respective column"
      ],
      "id": "zOrwvppsqlTU"
    },
    {
      "cell_type": "code",
      "metadata": {
        "id": "Jo24krX99KO-"
      },
      "source": [
        "#spliting the data class-wise\n",
        "data_list = []\n",
        "classes = 2\n",
        "\n",
        "#initializing the dataframes\n",
        "for index in range(classes):\n",
        "  data_list.append(pd.DataFrame(columns= data.columns))\n",
        "\n",
        "for index in range(len(data['Potability'])):\n",
        "  for class_label in range(classes):\n",
        "    if(data.iloc[index]['Potability'] == class_label):\n",
        "      data_list[class_label] = data_list[class_label].append(data.iloc[index], ignore_index=True)\n",
        "\n",
        "for index in range(classes):\n",
        "  data_list[index] = data_list[index].fillna(value = data_list[index]['ph'].mean())\n",
        "  data_list[index] = data_list[index].fillna(value = data_list[index]['Sulfate'].mean())\n",
        "  data_list[index] = data_list[index].fillna(value = data_list[index]['Trihalomethanes'].mean())\n",
        "\n",
        "\n",
        "data = pd.concat(data_list, ignore_index=True)"
      ],
      "id": "Jo24krX99KO-",
      "execution_count": null,
      "outputs": []
    },
    {
      "cell_type": "code",
      "metadata": {
        "colab": {
          "base_uri": "https://localhost:8080/"
        },
        "id": "oLZXVJiTsRtg",
        "outputId": "597b5710-0fe2-421e-e1ab-4d765f7fb7ae"
      },
      "source": [
        "#now verifying that there are now no null values\n",
        "data.isnull().sum()"
      ],
      "id": "oLZXVJiTsRtg",
      "execution_count": null,
      "outputs": [
        {
          "output_type": "execute_result",
          "data": {
            "text/plain": [
              "ph                 0\n",
              "Hardness           0\n",
              "Solids             0\n",
              "Chloramines        0\n",
              "Sulfate            0\n",
              "Conductivity       0\n",
              "Organic_carbon     0\n",
              "Trihalomethanes    0\n",
              "Turbidity          0\n",
              "Potability         0\n",
              "dtype: int64"
            ]
          },
          "metadata": {},
          "execution_count": 15
        }
      ]
    },
    {
      "cell_type": "code",
      "metadata": {
        "colab": {
          "base_uri": "https://localhost:8080/",
          "height": 317
        },
        "id": "iFefD4Y_Dlsr",
        "outputId": "d9c3b7b6-1617-48c5-f46d-3b119a5ad518"
      },
      "source": [
        "#summerizing the statistics of the dataset\n",
        "data.describe()"
      ],
      "id": "iFefD4Y_Dlsr",
      "execution_count": null,
      "outputs": [
        {
          "output_type": "execute_result",
          "data": {
            "text/html": [
              "<div>\n",
              "<style scoped>\n",
              "    .dataframe tbody tr th:only-of-type {\n",
              "        vertical-align: middle;\n",
              "    }\n",
              "\n",
              "    .dataframe tbody tr th {\n",
              "        vertical-align: top;\n",
              "    }\n",
              "\n",
              "    .dataframe thead th {\n",
              "        text-align: right;\n",
              "    }\n",
              "</style>\n",
              "<table border=\"1\" class=\"dataframe\">\n",
              "  <thead>\n",
              "    <tr style=\"text-align: right;\">\n",
              "      <th></th>\n",
              "      <th>ph</th>\n",
              "      <th>Hardness</th>\n",
              "      <th>Solids</th>\n",
              "      <th>Chloramines</th>\n",
              "      <th>Sulfate</th>\n",
              "      <th>Conductivity</th>\n",
              "      <th>Organic_carbon</th>\n",
              "      <th>Trihalomethanes</th>\n",
              "      <th>Turbidity</th>\n",
              "      <th>Potability</th>\n",
              "    </tr>\n",
              "  </thead>\n",
              "  <tbody>\n",
              "    <tr>\n",
              "      <th>count</th>\n",
              "      <td>3276.000000</td>\n",
              "      <td>3276.000000</td>\n",
              "      <td>3276.000000</td>\n",
              "      <td>3276.000000</td>\n",
              "      <td>3276.000000</td>\n",
              "      <td>3276.000000</td>\n",
              "      <td>3276.000000</td>\n",
              "      <td>3276.000000</td>\n",
              "      <td>3276.000000</td>\n",
              "      <td>3276.000000</td>\n",
              "    </tr>\n",
              "    <tr>\n",
              "      <th>mean</th>\n",
              "      <td>7.080855</td>\n",
              "      <td>196.369496</td>\n",
              "      <td>22014.092526</td>\n",
              "      <td>7.122277</td>\n",
              "      <td>255.891589</td>\n",
              "      <td>426.205111</td>\n",
              "      <td>14.284970</td>\n",
              "      <td>63.463141</td>\n",
              "      <td>3.966786</td>\n",
              "      <td>0.390110</td>\n",
              "    </tr>\n",
              "    <tr>\n",
              "      <th>std</th>\n",
              "      <td>1.469958</td>\n",
              "      <td>32.879761</td>\n",
              "      <td>8768.570828</td>\n",
              "      <td>1.583085</td>\n",
              "      <td>143.842323</td>\n",
              "      <td>80.824064</td>\n",
              "      <td>3.308162</td>\n",
              "      <td>20.349834</td>\n",
              "      <td>0.780382</td>\n",
              "      <td>0.487849</td>\n",
              "    </tr>\n",
              "    <tr>\n",
              "      <th>min</th>\n",
              "      <td>0.000000</td>\n",
              "      <td>47.432000</td>\n",
              "      <td>320.942611</td>\n",
              "      <td>0.352000</td>\n",
              "      <td>7.073783</td>\n",
              "      <td>181.483754</td>\n",
              "      <td>2.200000</td>\n",
              "      <td>0.738000</td>\n",
              "      <td>1.450000</td>\n",
              "      <td>0.000000</td>\n",
              "    </tr>\n",
              "    <tr>\n",
              "      <th>25%</th>\n",
              "      <td>6.277673</td>\n",
              "      <td>176.850538</td>\n",
              "      <td>15666.690300</td>\n",
              "      <td>6.127421</td>\n",
              "      <td>240.722848</td>\n",
              "      <td>365.734414</td>\n",
              "      <td>12.065801</td>\n",
              "      <td>53.793688</td>\n",
              "      <td>3.439711</td>\n",
              "      <td>0.000000</td>\n",
              "    </tr>\n",
              "    <tr>\n",
              "      <th>50%</th>\n",
              "      <td>7.085378</td>\n",
              "      <td>196.967627</td>\n",
              "      <td>20927.833605</td>\n",
              "      <td>7.130299</td>\n",
              "      <td>318.660382</td>\n",
              "      <td>421.884968</td>\n",
              "      <td>14.218338</td>\n",
              "      <td>65.445962</td>\n",
              "      <td>3.955028</td>\n",
              "      <td>0.000000</td>\n",
              "    </tr>\n",
              "    <tr>\n",
              "      <th>75%</th>\n",
              "      <td>7.870050</td>\n",
              "      <td>216.667456</td>\n",
              "      <td>27332.762125</td>\n",
              "      <td>8.114887</td>\n",
              "      <td>350.385756</td>\n",
              "      <td>481.792305</td>\n",
              "      <td>16.557652</td>\n",
              "      <td>76.666609</td>\n",
              "      <td>4.500320</td>\n",
              "      <td>1.000000</td>\n",
              "    </tr>\n",
              "    <tr>\n",
              "      <th>max</th>\n",
              "      <td>14.000000</td>\n",
              "      <td>323.124000</td>\n",
              "      <td>61227.196010</td>\n",
              "      <td>13.127000</td>\n",
              "      <td>481.030642</td>\n",
              "      <td>753.342620</td>\n",
              "      <td>28.300000</td>\n",
              "      <td>124.000000</td>\n",
              "      <td>6.739000</td>\n",
              "      <td>1.000000</td>\n",
              "    </tr>\n",
              "  </tbody>\n",
              "</table>\n",
              "</div>"
            ],
            "text/plain": [
              "                ph     Hardness  ...    Turbidity   Potability\n",
              "count  3276.000000  3276.000000  ...  3276.000000  3276.000000\n",
              "mean      7.080855   196.369496  ...     3.966786     0.390110\n",
              "std       1.469958    32.879761  ...     0.780382     0.487849\n",
              "min       0.000000    47.432000  ...     1.450000     0.000000\n",
              "25%       6.277673   176.850538  ...     3.439711     0.000000\n",
              "50%       7.085378   196.967627  ...     3.955028     0.000000\n",
              "75%       7.870050   216.667456  ...     4.500320     1.000000\n",
              "max      14.000000   323.124000  ...     6.739000     1.000000\n",
              "\n",
              "[8 rows x 10 columns]"
            ]
          },
          "metadata": {},
          "execution_count": 16
        }
      ]
    },
    {
      "cell_type": "markdown",
      "metadata": {
        "id": "bXYj7k0o5oj1"
      },
      "source": [
        "**Part C: Data Preprocessing**\n",
        "\n",
        "we are also apply some methods for the data standardizations, so that our model may train betterly\n"
      ],
      "id": "bXYj7k0o5oj1"
    },
    {
      "cell_type": "markdown",
      "metadata": {
        "id": "HmE_kREYHT_9"
      },
      "source": [
        "**Standardizing the Data with Standard Scaler Transformation**\n",
        "\n",
        "Standardize features by removing the mean and scaling to unit variance\n",
        "\n",
        "The standard score of a sample x is calculated as:\n",
        "\n",
        "z = (x - u) / s\n",
        "\n",
        "where u is the mean of the training samples or zero if with_mean=False, and s is the standard deviation of the training samples or one if with_std=False.\n",
        "\n",
        "Centering and scaling happen independently on each feature by computing the relevant statistics on the samples in the training set. Mean and standard deviation are then stored to be used on later data using transform.\n",
        "\n",
        "Standardization of a dataset is a common requirement for many machine learning estimators: they might behave badly if the individual features do not more or less look like standard normally distributed data (e.g. Gaussian with 0 mean and unit variance)."
      ],
      "id": "HmE_kREYHT_9"
    },
    {
      "cell_type": "code",
      "metadata": {
        "id": "qI8lUSIr6nhe"
      },
      "source": [
        "X = data.drop('Potability', axis=1)\n",
        "y = data['Potability']\n",
        "\n",
        "#data standardization\n",
        "standardized = StandardScaler()\n",
        "standardized.fit(X)\n",
        "X_transformed = standardized.transform(X)"
      ],
      "id": "qI8lUSIr6nhe",
      "execution_count": null,
      "outputs": []
    },
    {
      "cell_type": "markdown",
      "metadata": {
        "id": "fQFjzQ3x39qY"
      },
      "source": [
        "**Part D: Feature Engineering**\n",
        "\n",
        "In this portion I am showing the importance of each feature with respect to each feature through different techniques such as correlation matrix etc"
      ],
      "id": "fQFjzQ3x39qY"
    },
    {
      "cell_type": "markdown",
      "metadata": {
        "id": "eimDGQl3JF8Q"
      },
      "source": [
        "**Correlation Matrix**\n",
        "\n",
        "A correlation matrix is simply a table which displays the correlation coefficients for different variables. The matrix depicts the correlation between all the possible pairs of values in a table. It is a powerful tool to summarize a large dataset and to identify and visualize patterns in the given data."
      ],
      "id": "eimDGQl3JF8Q"
    },
    {
      "cell_type": "code",
      "metadata": {
        "colab": {
          "base_uri": "https://localhost:8080/",
          "height": 614
        },
        "id": "YgLhszUVRvhf",
        "outputId": "8b3a5b6c-b4f2-4817-b2cd-4114ba6346f9"
      },
      "source": [
        "#get correlations of each features in dataset\n",
        "\n",
        "correlationMatrix = data.corr()\n",
        "top_corr_features  = correlationMatrix.index\n",
        "plt.figure(figsize=(10,9))\n",
        "\n",
        "#plot heat map\n",
        "graph = sns.heatmap(data[top_corr_features].corr(), annot=True, cmap=\"RdYlGn\")"
      ],
      "id": "YgLhszUVRvhf",
      "execution_count": null,
      "outputs": [
        {
          "output_type": "display_data",
          "data": {
            "image/png": "[encoded data removed]",
            "text/plain": [
              "<Figure size 720x648 with 2 Axes>"
            ]
          },
          "metadata": {
            "needs_background": "light"
          }
        }
      ]
    },
    {
      "cell_type": "markdown",
      "metadata": {
        "id": "3ygRs01VJbth"
      },
      "source": [
        "**Feature Importance through ExtraTreesClassifer**\n",
        "\n",
        "In this method we using the ExtraTreesClassifier, for getting the importances of each features from the train model and we then showing it graphicaly. the greater the value of the features, the more important it is toward the output variables i.e. the species of the iris flower"
      ],
      "id": "3ygRs01VJbth"
    },
    {
      "cell_type": "code",
      "metadata": {
        "colab": {
          "base_uri": "https://localhost:8080/",
          "height": 265
        },
        "id": "G9z2bjGoChhU",
        "outputId": "f21ecb56-5ca2-458c-ffc2-5625c83c20ec"
      },
      "source": [
        "#ExtraTreeClassifier for showing the importance of each feature\n",
        "X = data.drop('Potability', axis=1)\n",
        "y = data['Potability']\n",
        "\n",
        "model = ExtraTreesClassifier()\n",
        "model.fit(X,y)\n",
        "\n",
        "feature_importances = pd.Series(model.feature_importances_, index=X.columns)\n",
        "feature_importances.nlargest(9).plot(kind='barh')\n",
        "plt.show()"
      ],
      "id": "G9z2bjGoChhU",
      "execution_count": null,
      "outputs": [
        {
          "output_type": "display_data",
          "data": {
            "image/png": "[encoded data removed]",
            "text/plain": [
              "<Figure size 432x288 with 1 Axes>"
            ]
          },
          "metadata": {
            "needs_background": "light"
          }
        }
      ]
    },
    {
      "cell_type": "markdown",
      "metadata": {
        "id": "O8tTSqpD9eYJ"
      },
      "source": [
        "**Splitting the Data (Random Sampling)**\n",
        "\n",
        "Random sampling is one of the simplest forms of collecting data from the total population. Under random sampling, each member of the subset carries an equal opportunity of being chosen as a part of the sampling process. \n",
        "\n",
        "When dealing with the classification problem, there is always a chance of occuring bias in ramdom sampling the data, i.e. there may occur more instances of one class in the trianing data and less the testing data and vice versa. so in this case neither the model will be betterly trained nor the results will be accurate."
      ],
      "id": "O8tTSqpD9eYJ"
    },
    {
      "cell_type": "code",
      "metadata": {
        "id": "td1ib4PkEmrM"
      },
      "source": [
        "#spliting the data (random resampling)\n",
        " \n",
        "X_train, X_test, y_train, y_test = train_test_split(X_transformed,y, random_state=12, test_size=0.20)\n",
        "\n",
        "y_train = y_train.astype('int')\n",
        "y_test = y_test.astype('int')"
      ],
      "id": "td1ib4PkEmrM",
      "execution_count": null,
      "outputs": []
    },
    {
      "cell_type": "markdown",
      "metadata": {
        "id": "DrB49LAAR5Z7"
      },
      "source": [
        "**Training and testing the model with random Forest Classifier**\n",
        "\n",
        "A random forest is a meta estimator that fits a number of decision tree classifiers on various sub-samples of the dataset and uses averaging to improve the predictive accuracy and control over-fitting.\n",
        "\n",
        "the base estimator used in the random forest classifier is Decision Tree classifier. In the below code, I have try different numbers of estimators i.e. base decision trees. I have tried from 1 decision tree upto 201 with the step of 20.\n",
        "\n",
        "I have then calculated all their accuracies and present their result graphically:"
      ],
      "id": "DrB49LAAR5Z7"
    },
    {
      "cell_type": "code",
      "metadata": {
        "colab": {
          "base_uri": "https://localhost:8080/"
        },
        "id": "xwoJZevDG6Fg",
        "outputId": "6370f4c4-aba0-414c-c8a3-ea8fbb4580af"
      },
      "source": [
        "#defining the list for using different number of base estimators for the random forest classifier\n",
        "#the list will be start from 1 and will goes upto 202 with the step size of 20\n",
        "numberOfClassifiers = list(range(1,202,20))\n",
        "\n",
        "#lists for collecting the training and testing  accuracies for each of the classifier \n",
        "train_accuracies = []\n",
        "test_accuracies = []\n",
        "\n",
        "#training and testing random forest classifiers with different number of base estimators\n",
        "for index in range(len(numberOfClassifiers)):\n",
        "  #defining the model\n",
        "  classifier = RandomForestClassifier(n_estimators= numberOfClassifiers[index])\n",
        "  \n",
        "  #fiting the model\n",
        "  classifier.fit(X_train, y_train)\n",
        "\n",
        "  #predicting the score for the test and train data\n",
        "  y_pred_train = classifier.predict(X_train)\n",
        "  y_pred_test = classifier.predict(X_test)\n",
        "\n",
        "  \n",
        "  #calculating the accuracies\n",
        "  train_accuracy = metrics.accuracy_score(y_train, y_pred_train)\n",
        "  test_accuracy  = metrics.accuracy_score(y_test, y_pred_test)\n",
        "\n",
        "  #appeding the values for the accuracies \n",
        "  train_accuracies.append(train_accuracy)\n",
        "  test_accuracies.append(test_accuracy)\n",
        "   \n",
        "  print(\"Regression Forest Successfully trained with number of base estimators: \", numberOfClassifiers[index])\n",
        "\n",
        "  print(\"Training Accuracy: \", train_accuracy)\n",
        "  print(\"Testing Accuracy: \", test_accuracy)\n",
        "\n",
        "  print()\n",
        "  print()\n",
        "  print(\"************************\")"
      ],
      "id": "xwoJZevDG6Fg",
      "execution_count": null,
      "outputs": [
        {
          "output_type": "stream",
          "text": [
            "Regression Forest Successfully trained with number of base estimators:  1\n",
            "Training Accuracy:  0.8244274809160306\n",
            "Testing Accuracy:  0.5594512195121951\n",
            "\n",
            "\n",
            "************************\n",
            "Regression Forest Successfully trained with number of base estimators:  21\n",
            "Training Accuracy:  0.998854961832061\n",
            "Testing Accuracy:  0.6265243902439024\n",
            "\n",
            "\n",
            "************************\n",
            "Regression Forest Successfully trained with number of base estimators:  41\n",
            "Training Accuracy:  1.0\n",
            "Testing Accuracy:  0.6859756097560976\n",
            "\n",
            "\n",
            "************************\n",
            "Regression Forest Successfully trained with number of base estimators:  61\n",
            "Training Accuracy:  1.0\n",
            "Testing Accuracy:  0.6585365853658537\n",
            "\n",
            "\n",
            "************************\n",
            "Regression Forest Successfully trained with number of base estimators:  81\n",
            "Training Accuracy:  1.0\n",
            "Testing Accuracy:  0.6371951219512195\n",
            "\n",
            "\n",
            "************************\n",
            "Regression Forest Successfully trained with number of base estimators:  101\n",
            "Training Accuracy:  1.0\n",
            "Testing Accuracy:  0.6448170731707317\n",
            "\n",
            "\n",
            "************************\n",
            "Regression Forest Successfully trained with number of base estimators:  121\n",
            "Training Accuracy:  1.0\n",
            "Testing Accuracy:  0.6554878048780488\n",
            "\n",
            "\n",
            "************************\n",
            "Regression Forest Successfully trained with number of base estimators:  141\n",
            "Training Accuracy:  1.0\n",
            "Testing Accuracy:  0.6585365853658537\n",
            "\n",
            "\n",
            "************************\n",
            "Regression Forest Successfully trained with number of base estimators:  161\n",
            "Training Accuracy:  1.0\n",
            "Testing Accuracy:  0.6554878048780488\n",
            "\n",
            "\n",
            "************************\n",
            "Regression Forest Successfully trained with number of base estimators:  181\n",
            "Training Accuracy:  1.0\n",
            "Testing Accuracy:  0.6600609756097561\n",
            "\n",
            "\n",
            "************************\n",
            "Regression Forest Successfully trained with number of base estimators:  201\n",
            "Training Accuracy:  1.0\n",
            "Testing Accuracy:  0.6676829268292683\n",
            "\n",
            "\n",
            "************************\n"
          ],
          "name": "stdout"
        }
      ]
    },
    {
      "cell_type": "code",
      "metadata": {
        "colab": {
          "base_uri": "https://localhost:8080/",
          "height": 295
        },
        "id": "V8lFXZTZKJyM",
        "outputId": "384eec62-cb71-4f26-ef4a-b21a4b96818f"
      },
      "source": [
        "#ploting the graphs with respect to the number of classifiers used in the randomforest tree\n",
        "plt.plot(numberOfClassifiers, train_accuracies)\n",
        "plt.title(\"Training Accuracy scores for the no. of classifers used in RF\")\n",
        "plt.xlabel(\"No. of Classifiers used\")\n",
        "plt.ylabel(\"Accuracy Score\")\n",
        "plt.xlim(1, 202)\n",
        "plt.ylim(0.5, 1.1);\n",
        "plt.show()"
      ],
      "id": "V8lFXZTZKJyM",
      "execution_count": null,
      "outputs": [
        {
          "output_type": "display_data",
          "data": {
            "image/png": "[encoded data removed]",
            "text/plain": [
              "<Figure size 432x288 with 1 Axes>"
            ]
          },
          "metadata": {
            "needs_background": "light"
          }
        }
      ]
    },
    {
      "cell_type": "code",
      "metadata": {
        "colab": {
          "base_uri": "https://localhost:8080/",
          "height": 295
        },
        "id": "x1wYaBkZKjD6",
        "outputId": "e0041e59-e846-49bb-b298-49a562a70fa5"
      },
      "source": [
        "#ploting the graphs with respect to the number of classifiers used in the randomforest tree\n",
        "plt.plot(numberOfClassifiers, test_accuracies)\n",
        "plt.title(\"Testing Accuracy scores for the no. of classifers used in RF\")\n",
        "plt.xlabel(\"No. of Classifiers used\")\n",
        "plt.ylabel(\"Accuracy Score\")\n",
        "plt.xlim(1, 202)\n",
        "plt.ylim(0.5, 1.1);\n",
        "plt.show()"
      ],
      "id": "x1wYaBkZKjD6",
      "execution_count": null,
      "outputs": [
        {
          "output_type": "display_data",
          "data": {
            "image/png": "[encoded data removed]",
            "text/plain": [
              "<Figure size 432x288 with 1 Axes>"
            ]
          },
          "metadata": {
            "needs_background": "light"
          }
        }
      ]
    },
    {
      "cell_type": "markdown",
      "metadata": {
        "id": "XzbkMW8vV2ad"
      },
      "source": [
        "**Training and testing with just one classifier**\n",
        "\n",
        "In this block of code, I am just training and testing the model with just one classifier, as previously I have experiment with a lots of random forest classifier, for trying different number of base estimators. and the data I am using here as I random sampling."
      ],
      "id": "XzbkMW8vV2ad"
    },
    {
      "cell_type": "code",
      "metadata": {
        "colab": {
          "base_uri": "https://localhost:8080/"
        },
        "id": "gC8ydNIBV1MB",
        "outputId": "5bf33b9f-018a-4224-fab5-bbc2ef33212d"
      },
      "source": [
        "#fiting the model\n",
        "classifier = RandomForestClassifier(n_estimators= 100)\n",
        "classifier.fit(X_train, y_train)\n",
        "\n",
        "#predicting the outputs\n",
        "y_pred_train = classifier.predict(X_train)\n",
        "y_pred_test = classifier.predict(X_test)\n",
        "\n",
        "#calculating the accuracies\n",
        "train_data_accuracy = metrics.accuracy_score(y_train, y_pred_train) \n",
        "test_data_accuracy =  metrics.accuracy_score(y_test, y_pred_test)\n",
        "\n",
        "train_data_report = metrics.classification_report(y_train, y_pred_train)\n",
        "test_data_report  = metrics.classification_report(y_test, y_pred_test)\n",
        "\n",
        "print(\"Training Accuracy: \", train_data_accuracy)\n",
        "print(\"Testing Accuracy: \", test_data_accuracy)\n",
        "\n",
        "print(\"\\nTraining Data Report: \")\n",
        "print(train_data_report)\n",
        "\n",
        "\n",
        "print(\"\\nTesting Data Report: \")\n",
        "print(test_data_report)"
      ],
      "id": "gC8ydNIBV1MB",
      "execution_count": null,
      "outputs": [
        {
          "output_type": "stream",
          "text": [
            "Training Accuracy:  1.0\n",
            "Testing Accuracy:  0.6661585365853658\n",
            "\n",
            "Training Data Report: \n",
            "              precision    recall  f1-score   support\n",
            "\n",
            "           0       1.00      1.00      1.00      1588\n",
            "           1       1.00      1.00      1.00      1032\n",
            "\n",
            "    accuracy                           1.00      2620\n",
            "   macro avg       1.00      1.00      1.00      2620\n",
            "weighted avg       1.00      1.00      1.00      2620\n",
            "\n",
            "\n",
            "Testing Data Report: \n",
            "              precision    recall  f1-score   support\n",
            "\n",
            "           0       0.69      0.86      0.76       410\n",
            "           1       0.60      0.34      0.43       246\n",
            "\n",
            "    accuracy                           0.67       656\n",
            "   macro avg       0.64      0.60      0.60       656\n",
            "weighted avg       0.65      0.67      0.64       656\n",
            "\n"
          ],
          "name": "stdout"
        }
      ]
    },
    {
      "cell_type": "markdown",
      "metadata": {
        "id": "hHLONA_o9pIg"
      },
      "source": [
        "****Splitting the Data (Strafied Sampling)****\n",
        "\n",
        "The stratified sampling is used to eridicate the problem that occurs during the random sampling. In this method, first we divide the data into sub-groups based on their similar features and then from these sub-groups we then randomly select the samples, so the proportions of each sub-group or class remain the same."
      ],
      "id": "hHLONA_o9pIg"
    },
    {
      "cell_type": "code",
      "metadata": {
        "id": "ElW---7OLroE"
      },
      "source": [
        "#spliting the data (stratified resampling)\n",
        "data_list = []\n",
        "classes = 2\n",
        "\n",
        "#initializing the dataframes\n",
        "for index in range(classes):\n",
        "  data_list.append(pd.DataFrame(columns= data.columns))\n",
        "\n",
        "for index in range(len(data['Potability'])):\n",
        "  for class_label in range(classes):\n",
        "    if(data.iloc[index]['Potability'] == class_label):\n",
        "      data_list[class_label] = data_list[class_label].append(data.iloc[index], ignore_index=True)\n",
        "\n",
        "\n",
        "X_train2 = []\n",
        "X_test2 = []\n",
        "y_train2 = []\n",
        "y_test2 = []\n",
        "\n",
        "for index in range(classes):\n",
        "  dataSplit = train_test_split(data_list[index].drop('Potability', axis=1), data_list[index]['Potability'], random_state=12, test_size=0.20)\n",
        "  X_train2.append(dataSplit[0])\n",
        "  X_test2.append(dataSplit[1])\n",
        "  y_train2.append(dataSplit[2])\n",
        "  y_test2.append(dataSplit[3])\n",
        "\n",
        "\n",
        "combined_X_train = pd.concat(X_train2 , ignore_index=True)\n",
        "combined_X_test = pd.concat(X_test2 , ignore_index=True)\n",
        "combined_y_train = pd.concat(y_train2 , ignore_index=True)\n",
        "combined_y_test = pd.concat(y_test2 , ignore_index=True)\n",
        "\n"
      ],
      "id": "ElW---7OLroE",
      "execution_count": null,
      "outputs": []
    },
    {
      "cell_type": "markdown",
      "metadata": {
        "id": "qkGoRmsjTPAC"
      },
      "source": [
        "**Training and testing the model with random Forest Classifier**\n",
        "\n",
        "I have used the same model as mentioned above. but this time only the data sampling is different i.e. stratified sampling "
      ],
      "id": "qkGoRmsjTPAC"
    },
    {
      "cell_type": "code",
      "metadata": {
        "colab": {
          "base_uri": "https://localhost:8080/"
        },
        "id": "QoKgS1nxLxyG",
        "outputId": "c85a1d1d-9dcd-4cc0-8c49-aaa68bd80f07"
      },
      "source": [
        "\n",
        "#defining the list for using different number of base estimators for the random forest classifier\n",
        "#the list will be start from 1 and will goes upto 202 with the step size of 20\n",
        "numberOfClassifiers = list(range(1,202,20))\n",
        "train_accuracies = []\n",
        "test_accuracies = []\n",
        "\n",
        "#lists for collecting the training and testing  accuracies for each of the classifier\n",
        "combined_y_train = combined_y_train.astype('int')\n",
        "combined_y_test =  combined_y_test.astype('int')\n",
        "\n",
        "\n",
        "#training and testing random forest classifiers with different number of base estimators\n",
        "for index in range(len(numberOfClassifiers)):\n",
        "  #defining the model\n",
        "  classifier = RandomForestClassifier(n_estimators= numberOfClassifiers[index])\n",
        "  \n",
        "  #fiting the model\n",
        "  classifier.fit(combined_X_train, combined_y_train)\n",
        "\n",
        "  #predicting the score for the test and train data\n",
        "  y_pred_train = classifier.predict(combined_X_train)\n",
        "  y_pred_test = classifier.predict(combined_X_test)\n",
        "  \n",
        "  #calculating the accuracies\n",
        "  train_accuracy = metrics.accuracy_score(combined_y_train, y_pred_train)\n",
        "  test_accuracy  = metrics.accuracy_score(combined_y_test, y_pred_test)\n",
        "\n",
        "  #appeding the values for the accuracies \n",
        "  train_accuracies.append(train_accuracy)\n",
        "  test_accuracies.append(test_accuracy)\n",
        "\n",
        "  print(\"Regression Forest Successfully trained with number of base estimators: \", numberOfClassifiers[index])\n",
        "\n",
        "  print(\"Training Accuracy: \", train_accuracy)\n",
        "  print(\"Testing Accuracy: \", test_accuracy)\n",
        "\n",
        "  print()\n",
        "  print()\n",
        "  print(\"************************\")"
      ],
      "id": "QoKgS1nxLxyG",
      "execution_count": null,
      "outputs": [
        {
          "output_type": "stream",
          "text": [
            "Regression Forest Successfully trained with number of base estimators:  1\n",
            "Training Accuracy:  0.8309160305343511\n",
            "Testing Accuracy:  0.5442073170731707\n",
            "\n",
            "\n",
            "************************\n",
            "Regression Forest Successfully trained with number of base estimators:  21\n",
            "Training Accuracy:  0.998854961832061\n",
            "Testing Accuracy:  0.6524390243902439\n",
            "\n",
            "\n",
            "************************\n",
            "Regression Forest Successfully trained with number of base estimators:  41\n",
            "Training Accuracy:  1.0\n",
            "Testing Accuracy:  0.6448170731707317\n",
            "\n",
            "\n",
            "************************\n",
            "Regression Forest Successfully trained with number of base estimators:  61\n",
            "Training Accuracy:  1.0\n",
            "Testing Accuracy:  0.6524390243902439\n",
            "\n",
            "\n",
            "************************\n",
            "Regression Forest Successfully trained with number of base estimators:  81\n",
            "Training Accuracy:  1.0\n",
            "Testing Accuracy:  0.6692073170731707\n",
            "\n",
            "\n",
            "************************\n",
            "Regression Forest Successfully trained with number of base estimators:  101\n",
            "Training Accuracy:  1.0\n",
            "Testing Accuracy:  0.6524390243902439\n",
            "\n",
            "\n",
            "************************\n",
            "Regression Forest Successfully trained with number of base estimators:  121\n",
            "Training Accuracy:  1.0\n",
            "Testing Accuracy:  0.6570121951219512\n",
            "\n",
            "\n",
            "************************\n",
            "Regression Forest Successfully trained with number of base estimators:  141\n",
            "Training Accuracy:  1.0\n",
            "Testing Accuracy:  0.6615853658536586\n",
            "\n",
            "\n",
            "************************\n",
            "Regression Forest Successfully trained with number of base estimators:  161\n",
            "Training Accuracy:  1.0\n",
            "Testing Accuracy:  0.663109756097561\n",
            "\n",
            "\n",
            "************************\n",
            "Regression Forest Successfully trained with number of base estimators:  181\n",
            "Training Accuracy:  1.0\n",
            "Testing Accuracy:  0.6722560975609756\n",
            "\n",
            "\n",
            "************************\n",
            "Regression Forest Successfully trained with number of base estimators:  201\n",
            "Training Accuracy:  1.0\n",
            "Testing Accuracy:  0.6783536585365854\n",
            "\n",
            "\n",
            "************************\n"
          ],
          "name": "stdout"
        }
      ]
    },
    {
      "cell_type": "code",
      "metadata": {
        "colab": {
          "base_uri": "https://localhost:8080/",
          "height": 295
        },
        "id": "FrZBoeHKXuGa",
        "outputId": "33b99bad-04b4-4c1a-c9b5-ddc219a74916"
      },
      "source": [
        "#ploting the graphs with respect to the number of classifiers used in the randomforest tree\n",
        "plt.plot(numberOfClassifiers, train_accuracies)\n",
        "plt.title(\"Training Accuracy scores for the no. of classifers used in RF\")\n",
        "plt.xlabel(\"No. of Classifiers used\")\n",
        "plt.ylabel(\"Accuracy Score\")\n",
        "plt.xlim(1, 202)\n",
        "plt.ylim(0.5, 1.1);\n",
        "plt.show()"
      ],
      "id": "FrZBoeHKXuGa",
      "execution_count": null,
      "outputs": [
        {
          "output_type": "display_data",
          "data": {
            "image/png": "[encoded data removed]",
            "text/plain": [
              "<Figure size 432x288 with 1 Axes>"
            ]
          },
          "metadata": {
            "needs_background": "light"
          }
        }
      ]
    },
    {
      "cell_type": "code",
      "metadata": {
        "colab": {
          "base_uri": "https://localhost:8080/",
          "height": 295
        },
        "id": "N_zfzFbeX43m",
        "outputId": "f2e4541f-757b-47da-bec6-2c052d0b8eb0"
      },
      "source": [
        "#ploting the graphs with respect to the number of classifiers used in the randomforest tree\n",
        "plt.plot(numberOfClassifiers, test_accuracies)\n",
        "plt.title(\"Testing Accuracy scores for the no. of classifers used in RF\")\n",
        "plt.xlabel(\"No. of Classifiers used\")\n",
        "plt.ylabel(\"Accuracy Score\")\n",
        "plt.xlim(1, 202)\n",
        "plt.ylim(0.5, 1.1);\n",
        "plt.show()"
      ],
      "id": "N_zfzFbeX43m",
      "execution_count": null,
      "outputs": [
        {
          "output_type": "display_data",
          "data": {
            "image/png": "[encoded data removed]",
            "text/plain": [
              "<Figure size 432x288 with 1 Axes>"
            ]
          },
          "metadata": {
            "needs_background": "light"
          }
        }
      ]
    },
    {
      "cell_type": "markdown",
      "metadata": {
        "id": "bx5eCy2bTjsI"
      },
      "source": [
        "**Training and testing with just one classifier**\n",
        "\n",
        "In this block of code, I am just training and testing the model with just one classifier, as previously I have experiment with a lots of random forest classifier, for trying different number of base estimators and the data I am using here as I random sampling"
      ],
      "id": "bx5eCy2bTjsI"
    },
    {
      "cell_type": "code",
      "metadata": {
        "colab": {
          "base_uri": "https://localhost:8080/"
        },
        "id": "9h2nnXF4QDCJ",
        "outputId": "4249fd55-d4b0-410f-990c-8941f4221252"
      },
      "source": [
        "#fiting the model\n",
        "classifier = RandomForestClassifier(n_estimators= 100)\n",
        "classifier.fit(combined_X_train, combined_y_train)\n",
        "\n",
        "#predicting the outputs\n",
        "y_pred_train = classifier.predict(combined_X_train)\n",
        "y_pred_test = classifier.predict(combined_X_test)\n",
        "\n",
        "#calculating the accuracies\n",
        "train_data_accuracy = metrics.accuracy_score(combined_y_train, y_pred_train) \n",
        "test_data_accuracy =  metrics.accuracy_score(combined_y_test, y_pred_test)\n",
        "\n",
        "train_data_report = metrics.classification_report(combined_y_train, y_pred_train)\n",
        "test_data_report  = metrics.classification_report(combined_y_test, y_pred_test)\n",
        "\n",
        "print(\"Training Accuracy: \", train_data_accuracy)\n",
        "print(\"Testing Accuracy: \", test_data_accuracy)\n",
        "\n",
        "print(\"\\nTraining Data Report: \")\n",
        "print(train_data_report)\n",
        "\n",
        "\n",
        "print(\"\\nTesting Data Report: \")\n",
        "print(test_data_report)"
      ],
      "id": "9h2nnXF4QDCJ",
      "execution_count": null,
      "outputs": [
        {
          "output_type": "stream",
          "text": [
            "Training Accuracy:  1.0\n",
            "Testing Accuracy:  0.6600609756097561\n",
            "\n",
            "Training Data Report: \n",
            "              precision    recall  f1-score   support\n",
            "\n",
            "           0       1.00      1.00      1.00      1598\n",
            "           1       1.00      1.00      1.00      1022\n",
            "\n",
            "    accuracy                           1.00      2620\n",
            "   macro avg       1.00      1.00      1.00      2620\n",
            "weighted avg       1.00      1.00      1.00      2620\n",
            "\n",
            "\n",
            "Testing Data Report: \n",
            "              precision    recall  f1-score   support\n",
            "\n",
            "           0       0.66      0.90      0.76       400\n",
            "           1       0.64      0.29      0.40       256\n",
            "\n",
            "    accuracy                           0.66       656\n",
            "   macro avg       0.65      0.59      0.58       656\n",
            "weighted avg       0.66      0.66      0.62       656\n",
            "\n"
          ],
          "name": "stdout"
        }
      ]
    }
  ]
}