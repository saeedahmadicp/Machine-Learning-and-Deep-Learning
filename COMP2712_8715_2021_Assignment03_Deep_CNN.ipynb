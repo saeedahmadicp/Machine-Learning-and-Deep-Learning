{
  "nbformat": 4,
  "nbformat_minor": 0,
  "metadata": {
    "colab": {
      "name": "COMP2712_8715_2021_Assignment03_Deep_CNN",
      "provenance": [],
      "collapsed_sections": [],
      "include_colab_link": true
    },
    "kernelspec": {
      "name": "python3",
      "display_name": "Python 3"
    },
    "accelerator": "GPU"
  },
  "cells": [
    {
      "cell_type": "markdown",
      "metadata": {
        "id": "view-in-github",
        "colab_type": "text"
      },
      "source": [
        "<a href=\"https://colab.research.google.com/github/saeedahmadicp/Machine-Learning-and-Deep-Learning/blob/main/COMP2712_8715_2021_Assignment03_Deep_CNN.ipynb\" target=\"_parent\"><img src=\"https://colab.research.google.com/assets/colab-badge.svg\" alt=\"Open In Colab\"/></a>"
      ]
    },
    {
      "cell_type": "markdown",
      "metadata": {
        "id": "KVDcdZVVIswy"
      },
      "source": [
        "# COMP2712_8715_2021 Assignment03: Classifying Images Using CNN \n",
        "\n",
        "##Part c) Deep Convolutional Neural Network\n",
        "\n"
      ]
    },
    {
      "cell_type": "code",
      "metadata": {
        "id": "FqR-k4UDDltb",
        "colab": {
          "base_uri": "https://localhost:8080/"
        },
        "outputId": "f16d16a5-d910-4d07-9044-90ea4cb5d655"
      },
      "source": [
        "from google.colab import drive\n",
        "drive.mount('/content/drive')"
      ],
      "execution_count": null,
      "outputs": [
        {
          "output_type": "stream",
          "name": "stdout",
          "text": [
            "Mounted at /content/drive\n"
          ]
        }
      ]
    },
    {
      "cell_type": "markdown",
      "metadata": {
        "id": "3s7DsaxDI2im"
      },
      "source": [
        "## Functions to work with CIFAR\n",
        "\n",
        "The functions below help with access to the CIFAR-10 data the you have downloaded."
      ]
    },
    {
      "cell_type": "code",
      "metadata": {
        "id": "nUSVhQr5KDv1"
      },
      "source": [
        "import pickle\n",
        "import numpy as np\n",
        "import pandas as pd\n",
        "\n",
        "def load_CIFAR_batch(filename, flatten=True, categorical=True):\n",
        "    \"\"\" load single batch of cifar \"\"\"\n",
        "    with open(filename, 'rb') as f:\n",
        "        datadict = pickle.load(f, encoding='bytes')\n",
        "        X = datadict[b'data']        \n",
        "        X = X.reshape(10000, 3, 32, 32).transpose(0, 2, 3, 1).astype(\"float\")\n",
        "        if (flatten):\n",
        "          X = X.reshape(10000, 3072)\n",
        "        X = X.astype('float32')\n",
        "        X /= 255\n",
        "\n",
        "        y = datadict[b'labels']\n",
        "        y = np.array(y)\n",
        "        if (categorical):\n",
        "          y = pd.get_dummies(y).values\n",
        "\n",
        "        return X, y\n",
        "\n",
        "def load_CIFAR_meta(filename):\n",
        "  with open(filename,'rb') as f:\n",
        "    metadict = pickle.load(f, encoding='bytes')\n",
        "\n",
        "    class_labels = [ val.decode() for val in metadict.get(b'label_names') ]\n",
        "    return class_labels\n",
        "\n",
        "def get_image(X, index, nchans=3, size=32):\n",
        "  xi = X[index,:]\n",
        "  img = xi.reshape(32, 32, 3)\n",
        "  return img"
      ],
      "execution_count": null,
      "outputs": []
    },
    {
      "cell_type": "markdown",
      "metadata": {
        "id": "axqceDnNJVss"
      },
      "source": [
        "## Load the CIFAR data\n",
        "\n",
        "The CIFAR data has 5 batches of data and 1 test data set. Each batch is labelled\n",
        "- `data_batch_1`\n",
        "- `data_batch_2`\n",
        "- `data_batch_3`\n",
        "- `data_batch_4`\n",
        "- `data_batch_5`\n",
        "\n",
        "and a test set labelled\n",
        "- `test_batch`\n",
        "\n",
        "each batch has 10,000 images, so 50,000 training and 10,000 test images."
      ]
    },
    {
      "cell_type": "markdown",
      "metadata": {
        "id": "s2X0_Oz_SkHi"
      },
      "source": [
        "Below is example of loading the first batch of training data labelled as `data_batch_1`.  You will need to update the path to match where you have stored your cifar-10 data."
      ]
    },
    {
      "cell_type": "code",
      "metadata": {
        "id": "SudeLpyHCd-X",
        "colab": {
          "base_uri": "https://localhost:8080/"
        },
        "outputId": "497272c7-355a-4a68-ea53-8a7d6c776cbe"
      },
      "source": [
        "flatten = False\n",
        "categorical = True\n",
        "\n",
        "# load only the first batch\n",
        "X1, y1 = load_CIFAR_batch('/content/drive/MyDrive/Dataset/cifar-10-batches-py/data_batch_1',flatten=flatten,categorical=categorical)\n",
        "\n",
        "# load only the second batch\n",
        "#X2, y2 = load_CIFAR_batch('/content/drive/MyDrive/Dataset/cifar-10-batches-py/data_batch_2',flatten=flatten,categorical=categorical)\n",
        "\n",
        "# Load the first batch from CIFAR-10\n",
        "X, y = load_CIFAR_batch('/content/drive/MyDrive/Dataset/cifar-10-batches-py/data_batch_1',flatten=flatten,categorical=categorical)\n",
        "\n",
        "# iterate over 2 to 5\n",
        "for bi in range(2,6):\n",
        "  # load the next data set 'bi'\n",
        "  X2, y2 = load_CIFAR_batch('/content/drive/MyDrive/Dataset/cifar-10-batches-py/data_batch_{}'.format(bi),flatten=flatten,categorical=categorical)\n",
        "\n",
        "  # concatenate/stack the dataest together\n",
        "  X = np.vstack([X, X2])\n",
        "  y = np.vstack([y, y2])\n",
        "\n",
        "\n",
        "print('We have {} instances of images'.format(y.shape[0]))\n"
      ],
      "execution_count": null,
      "outputs": [
        {
          "output_type": "stream",
          "name": "stdout",
          "text": [
            "We have 50000 instances of images\n"
          ]
        }
      ]
    },
    {
      "cell_type": "markdown",
      "metadata": {
        "id": "oMUnAt_YKPjp"
      },
      "source": [
        "The number of instances/examples for all the different classes.  There are 10 different classes."
      ]
    },
    {
      "cell_type": "code",
      "metadata": {
        "id": "8-uX5AZmQG9N",
        "colab": {
          "base_uri": "https://localhost:8080/"
        },
        "outputId": "da63b8f6-d447-4f0f-a370-b9b105dbd55f"
      },
      "source": [
        "[np.sum(np.argmax(y, axis=1) == i) for i in range(0,10)]"
      ],
      "execution_count": null,
      "outputs": [
        {
          "output_type": "execute_result",
          "data": {
            "text/plain": [
              "[5000, 5000, 5000, 5000, 5000, 5000, 5000, 5000, 5000, 5000]"
            ]
          },
          "metadata": {},
          "execution_count": 4
        }
      ]
    },
    {
      "cell_type": "markdown",
      "metadata": {
        "id": "fD_HIgldKlsd"
      },
      "source": [
        "The labels for the classes are stored in the `batches.meta` file"
      ]
    },
    {
      "cell_type": "code",
      "metadata": {
        "id": "-HKjGtxStmcz",
        "colab": {
          "base_uri": "https://localhost:8080/"
        },
        "outputId": "4add64fd-8dd5-4ece-ea4d-d453dc92bf75"
      },
      "source": [
        "class_labels = load_CIFAR_meta('/content/drive/MyDrive/Dataset/cifar-10-batches-py/batches.meta')\n",
        "print(class_labels)"
      ],
      "execution_count": null,
      "outputs": [
        {
          "output_type": "stream",
          "name": "stdout",
          "text": [
            "['airplane', 'automobile', 'bird', 'cat', 'deer', 'dog', 'frog', 'horse', 'ship', 'truck']\n"
          ]
        }
      ]
    },
    {
      "cell_type": "markdown",
      "metadata": {
        "id": "AYNjse_BTLnx"
      },
      "source": [
        "Let's look at some random cat images, because cats."
      ]
    },
    {
      "cell_type": "code",
      "metadata": {
        "id": "zoI3IO7KTjMg"
      },
      "source": [
        "import random\n",
        "import matplotlib.pyplot as plt\n",
        "\n",
        "def plot_random(X, y, class_labels, what_target='cat'):\n",
        "\n",
        "  what_label = class_labels.index(what_target)\n",
        "  what_labeli = np.where(np.argmax(y,axis=1) == what_label)[0]\n",
        "  random_what_index = what_labeli[random.choice(range(len(what_labeli)))]\n",
        "\n",
        "  plt.imshow(get_image(X,random_what_index))\n",
        "  plt.title('{}, index: {}'.format(what_target,random_what_index))\n",
        "  plt.axis('off')"
      ],
      "execution_count": null,
      "outputs": []
    },
    {
      "cell_type": "code",
      "metadata": {
        "id": "6AiPII3JUm3R",
        "colab": {
          "base_uri": "https://localhost:8080/",
          "height": 264
        },
        "outputId": "6defccb6-dc12-4b5e-a114-cc22a9a8e9e3"
      },
      "source": [
        "plot_random(X, y, class_labels, what_target='dog')\n"
      ],
      "execution_count": null,
      "outputs": [
        {
          "output_type": "display_data",
          "data": {
            "image/png": "[encoded data removed]",
            "text/plain": [
              "<Figure size 432x288 with 1 Axes>"
            ]
          },
          "metadata": {
            "needs_background": "light"
          }
        }
      ]
    },
    {
      "cell_type": "markdown",
      "metadata": {
        "id": "v557teUwb50v"
      },
      "source": [
        "## Part c) Deep Convolutional Neural Netowrk\n",
        "\n"
      ]
    },
    {
      "cell_type": "code",
      "metadata": {
        "id": "AZk2OEWpb83j"
      },
      "source": [
        "# TensorFlow and tf.keras\n",
        "import tensorflow as tf\n",
        "from tensorflow import keras\n",
        "from tensorflow.keras.layers import Dense, Conv2D, Flatten, MaxPooling2D, Input, Dropout, BatchNormalization\n",
        "\n",
        "def build_small_cnn(number_of_output, input_shape):\n",
        "    \n",
        "    model_cnn = keras.Sequential()\n",
        "    model_cnn.add(Input(input_shape))\n",
        "    \n",
        "    model_cnn.add(Conv2D(32, kernel_size=(3,3), padding='same', activation=\"relu\"))\n",
        "    model_cnn.add(BatchNormalization())\n",
        "    model_cnn.add(Conv2D(32, kernel_size=(3,3), padding='same', activation=\"relu\"))\n",
        "    model_cnn.add(BatchNormalization())\n",
        "    model_cnn.add(MaxPooling2D(pool_size=(2,2)))\n",
        "    model_cnn.add(Dropout(0.2))\n",
        "\n",
        "\n",
        "    model_cnn.add(Conv2D(64, kernel_size=(3,3), padding='same', activation=\"relu\"))\n",
        "    model_cnn.add(BatchNormalization())\n",
        "    model_cnn.add(Conv2D(64, kernel_size=(3,3), padding='same', activation=\"relu\"))\n",
        "    model_cnn.add(BatchNormalization())\n",
        "    model_cnn.add(MaxPooling2D(pool_size=(2,2)))\n",
        "    model_cnn.add(Dropout(0.3))\n",
        "\n",
        "\n",
        "    model_cnn.add(Conv2D(128, kernel_size=(3,3), padding='same', activation=\"relu\"))\n",
        "    model_cnn.add(BatchNormalization())\n",
        "    model_cnn.add(Conv2D(128, kernel_size=(3,3), padding='same', activation=\"relu\"))\n",
        "    model_cnn.add(BatchNormalization())\n",
        "    model_cnn.add(MaxPooling2D(pool_size=(2,2)))\n",
        "    model_cnn.add(Dropout(0.4))\n",
        "\n",
        "\n",
        "  \n",
        "    model_cnn.add(Flatten())\n",
        "    model_cnn.add(Dense(128, activation='relu'))\n",
        "\n",
        "    #output layer for classification\n",
        "    model_cnn.add(Dense(number_of_output, activation='softmax'))\n",
        "    \n",
        "    model_cnn.compile(optimizer= tf.optimizers.Adam(),\n",
        "                      loss=keras.losses.categorical_crossentropy,\n",
        "                      metrics=keras.metrics.categorical_crossentropy)\n",
        "    return model_cnn"
      ],
      "execution_count": null,
      "outputs": []
    },
    {
      "cell_type": "markdown",
      "metadata": {
        "id": "0bmQvxzq2rjz"
      },
      "source": [
        "### Flatten the data\n",
        "The data is currently a 3D image, but for the simple model we require a 1D feature vector.  So, we need to flatten the data."
      ]
    },
    {
      "cell_type": "code",
      "metadata": {
        "id": "-5qBU8F32Uug",
        "colab": {
          "base_uri": "https://localhost:8080/"
        },
        "outputId": "f0983e40-702f-4f1b-e3d8-7623e108cba7"
      },
      "source": [
        "# we need to flatten the images for the simple model\n",
        "n_samples = len(X)\n",
        "X_flatten = X.reshape((n_samples, -1))\n",
        "\n",
        "print('The number of samples: {}'.format(n_samples))\n",
        "print('The old shape of the data: {}'.format(X.shape))\n",
        "print('The new shape of the data: {}'.format(X_flatten.shape))\n",
        "print('The shape of the y       : {}'.format(y.shape))"
      ],
      "execution_count": null,
      "outputs": [
        {
          "output_type": "stream",
          "name": "stdout",
          "text": [
            "The number of samples: 50000\n",
            "The old shape of the data: (50000, 32, 32, 3)\n",
            "The new shape of the data: (50000, 3072)\n",
            "The shape of the y       : (50000, 10)\n"
          ]
        }
      ]
    },
    {
      "cell_type": "markdown",
      "metadata": {
        "id": "CHQRFduHz1bd"
      },
      "source": [
        "### Train the model\n",
        "\n"
      ]
    },
    {
      "cell_type": "code",
      "metadata": {
        "id": "oZPXxhN2z02z",
        "colab": {
          "base_uri": "https://localhost:8080/"
        },
        "outputId": "88ab6008-7296-4b8e-856b-e06067ca77fc"
      },
      "source": [
        "# sklearn evaluation packages\n",
        "from sklearn.model_selection import StratifiedKFold\n",
        "from sklearn.metrics import classification_report\n",
        "from sklearn.metrics import confusion_matrix\n",
        "from sklearn.metrics import accuracy_score\n",
        "from sklearn.metrics import matthews_corrcoef\n",
        "\n",
        "# use 5 epochs or iterations\n",
        "no_epochs = 20\n",
        "number_of_features = len(X_flatten[0])\n",
        "\n",
        "# with 50 nodes in the single hidden layer\n",
        "number_hidden_nodes = 50\n",
        "number_of_output = len(y[0])\n",
        "\n",
        "# relu is a good choice\n",
        "activation = 'relu' # select from [None, 'sigmoid', 'tanh', 'relu']:\n",
        "y_class = np.argmax(y, axis=1)\n",
        "\n",
        "# build a small cnn model\n",
        "model = build_small_cnn(number_of_output=number_of_output, input_shape=(32,32,3))\n",
        "model.summary()\n",
        "\n",
        "\n",
        "# Stratified K-Fold for evaluation of generalisation performance\n",
        "k = 5 # 10 is the gold standard\n",
        "kf = StratifiedKFold(n_splits=k)\n",
        "foldi = 1\n",
        "ac = [] # accuracy_score\n",
        "cr = [] # classification_report\n",
        "cm = [] # confusion_matrix\n",
        "y_test_max_all = []\n",
        "y_pred_max_all = []\n",
        "\n",
        "\n",
        "for train_index, test_index in kf.split(X,y_class):\n",
        "  X_train, X_test, y_train, y_test = X[train_index,:], X[test_index,:], y[train_index,:], y[test_index,:]\n",
        "\n",
        "  model = build_small_cnn(number_of_output=number_of_output, input_shape=(32,32,3))\n",
        "\n",
        "  print('Training with {0} for {1} for fold {2} or {3}'.format(activation, no_epochs, foldi, k))\n",
        "  history = model.fit(X_train, y_train, epochs=no_epochs, verbose=1)\n",
        "\n",
        "  hist = pd.DataFrame(history.history)\n",
        "  hist['epoch'] = history.epoch\n",
        "\n",
        "\n",
        "  loss_final = np.sqrt(float(hist['loss'].tail(1)))\n",
        "  print()\n",
        "  print('Final Loss on training set: {}'.format(round(loss_final, 3)))\n",
        "\n",
        "  # evaluate the model\n",
        "  y_pred_real = model.predict(X_test)\n",
        "  y_pred_max = np.argmax(y_pred_real, axis=-1).astype(int)\n",
        "  y_test_max = y_test.argmax(axis=1).astype(int)\n",
        "\n",
        "  y_pred_max_all.extend(y_pred_max)\n",
        "  y_test_max_all.extend(y_test_max)\n",
        "\n",
        "  ac.append(accuracy_score(y_test_max,y_pred_max))\n",
        "  print('accuracy is {:.2f}%'.format(ac[-1]*100)) # Print accuracy score\n",
        "  print()\n",
        "  cr.append(classification_report(y_test_max,y_pred_max)) # Print summary report\n",
        "  cm.append(confusion_matrix(y_test_max, y_pred_max))\n",
        "  \n",
        "  foldi = foldi + 1\n",
        "\n",
        "print('k-fold complete!')"
      ],
      "execution_count": null,
      "outputs": [
        {
          "output_type": "stream",
          "name": "stdout",
          "text": [
            "Model: \"sequential_12\"\n",
            "_________________________________________________________________\n",
            "Layer (type)                 Output Shape              Param #   \n",
            "=================================================================\n",
            "conv2d_72 (Conv2D)           (None, 32, 32, 32)        896       \n",
            "_________________________________________________________________\n",
            "batch_normalization_72 (Batc (None, 32, 32, 32)        128       \n",
            "_________________________________________________________________\n",
            "conv2d_73 (Conv2D)           (None, 32, 32, 32)        9248      \n",
            "_________________________________________________________________\n",
            "batch_normalization_73 (Batc (None, 32, 32, 32)        128       \n",
            "_________________________________________________________________\n",
            "max_pooling2d_36 (MaxPooling (None, 16, 16, 32)        0         \n",
            "_________________________________________________________________\n",
            "dropout_36 (Dropout)         (None, 16, 16, 32)        0         \n",
            "_________________________________________________________________\n",
            "conv2d_74 (Conv2D)           (None, 16, 16, 64)        18496     \n",
            "_________________________________________________________________\n",
            "batch_normalization_74 (Batc (None, 16, 16, 64)        256       \n",
            "_________________________________________________________________\n",
            "conv2d_75 (Conv2D)           (None, 16, 16, 64)        36928     \n",
            "_________________________________________________________________\n",
            "batch_normalization_75 (Batc (None, 16, 16, 64)        256       \n",
            "_________________________________________________________________\n",
            "max_pooling2d_37 (MaxPooling (None, 8, 8, 64)          0         \n",
            "_________________________________________________________________\n",
            "dropout_37 (Dropout)         (None, 8, 8, 64)          0         \n",
            "_________________________________________________________________\n",
            "conv2d_76 (Conv2D)           (None, 8, 8, 128)         73856     \n",
            "_________________________________________________________________\n",
            "batch_normalization_76 (Batc (None, 8, 8, 128)         512       \n",
            "_________________________________________________________________\n",
            "conv2d_77 (Conv2D)           (None, 8, 8, 128)         147584    \n",
            "_________________________________________________________________\n",
            "batch_normalization_77 (Batc (None, 8, 8, 128)         512       \n",
            "_________________________________________________________________\n",
            "max_pooling2d_38 (MaxPooling (None, 4, 4, 128)         0         \n",
            "_________________________________________________________________\n",
            "dropout_38 (Dropout)         (None, 4, 4, 128)         0         \n",
            "_________________________________________________________________\n",
            "flatten_12 (Flatten)         (None, 2048)              0         \n",
            "_________________________________________________________________\n",
            "dense_24 (Dense)             (None, 128)               262272    \n",
            "_________________________________________________________________\n",
            "dense_25 (Dense)             (None, 10)                1290      \n",
            "=================================================================\n",
            "Total params: 552,362\n",
            "Trainable params: 551,466\n",
            "Non-trainable params: 896\n",
            "_________________________________________________________________\n",
            "Training with relu for 20 for fold 1 or 5\n",
            "Epoch 1/20\n",
            "1250/1250 [==============================] - 27s 21ms/step - loss: 1.4662 - categorical_crossentropy: 1.4662\n",
            "Epoch 2/20\n",
            "1250/1250 [==============================] - 26s 20ms/step - loss: 1.0050 - categorical_crossentropy: 1.0050\n",
            "Epoch 3/20\n",
            "1250/1250 [==============================] - 25s 20ms/step - loss: 0.8288 - categorical_crossentropy: 0.8288\n",
            "Epoch 4/20\n",
            "1250/1250 [==============================] - 25s 20ms/step - loss: 0.7466 - categorical_crossentropy: 0.7466\n",
            "Epoch 5/20\n",
            "1250/1250 [==============================] - 24s 19ms/step - loss: 0.6733 - categorical_crossentropy: 0.6733\n",
            "Epoch 6/20\n",
            "1250/1250 [==============================] - 23s 18ms/step - loss: 0.6161 - categorical_crossentropy: 0.6161\n",
            "Epoch 7/20\n",
            "1250/1250 [==============================] - 23s 19ms/step - loss: 0.5694 - categorical_crossentropy: 0.5694\n",
            "Epoch 8/20\n",
            "1250/1250 [==============================] - 23s 18ms/step - loss: 0.5324 - categorical_crossentropy: 0.5324\n",
            "Epoch 9/20\n",
            "1250/1250 [==============================] - 23s 18ms/step - loss: 0.4964 - categorical_crossentropy: 0.4964\n",
            "Epoch 10/20\n",
            "1250/1250 [==============================] - 23s 18ms/step - loss: 0.4652 - categorical_crossentropy: 0.4652\n",
            "Epoch 11/20\n",
            "1250/1250 [==============================] - 23s 18ms/step - loss: 0.4349 - categorical_crossentropy: 0.4349\n",
            "Epoch 12/20\n",
            "1250/1250 [==============================] - 23s 18ms/step - loss: 0.4131 - categorical_crossentropy: 0.4131\n",
            "Epoch 13/20\n",
            "1250/1250 [==============================] - 23s 18ms/step - loss: 0.3890 - categorical_crossentropy: 0.3890\n",
            "Epoch 14/20\n",
            "1250/1250 [==============================] - 22s 18ms/step - loss: 0.3656 - categorical_crossentropy: 0.3656\n",
            "Epoch 15/20\n",
            "1250/1250 [==============================] - 22s 18ms/step - loss: 0.3501 - categorical_crossentropy: 0.3501\n",
            "Epoch 16/20\n",
            "1250/1250 [==============================] - 22s 18ms/step - loss: 0.3376 - categorical_crossentropy: 0.3376\n",
            "Epoch 17/20\n",
            "1250/1250 [==============================] - 22s 18ms/step - loss: 0.3182 - categorical_crossentropy: 0.3182\n",
            "Epoch 18/20\n",
            "1250/1250 [==============================] - 22s 18ms/step - loss: 0.3070 - categorical_crossentropy: 0.3070\n",
            "Epoch 19/20\n",
            "1250/1250 [==============================] - 22s 18ms/step - loss: 0.2933 - categorical_crossentropy: 0.2933\n",
            "Epoch 20/20\n",
            "1250/1250 [==============================] - 23s 18ms/step - loss: 0.2799 - categorical_crossentropy: 0.2799\n",
            "\n",
            "Final Loss on training set: 0.529\n",
            "accuracy is 83.83%\n",
            "\n",
            "Training with relu for 20 for fold 2 or 5\n",
            "Epoch 1/20\n",
            "1250/1250 [==============================] - 27s 21ms/step - loss: 1.4618 - categorical_crossentropy: 1.4618\n",
            "Epoch 2/20\n",
            "1250/1250 [==============================] - 26s 21ms/step - loss: 1.0123 - categorical_crossentropy: 1.0123\n",
            "Epoch 3/20\n",
            "1250/1250 [==============================] - 26s 21ms/step - loss: 0.8342 - categorical_crossentropy: 0.8342\n",
            "Epoch 4/20\n",
            "1250/1250 [==============================] - 25s 20ms/step - loss: 0.7397 - categorical_crossentropy: 0.7397\n",
            "Epoch 5/20\n",
            "1250/1250 [==============================] - 25s 20ms/step - loss: 0.6706 - categorical_crossentropy: 0.6706\n",
            "Epoch 6/20\n",
            "1250/1250 [==============================] - 24s 20ms/step - loss: 0.6112 - categorical_crossentropy: 0.6112\n",
            "Epoch 7/20\n",
            "1250/1250 [==============================] - 24s 20ms/step - loss: 0.5662 - categorical_crossentropy: 0.5662\n",
            "Epoch 8/20\n",
            "1250/1250 [==============================] - 24s 20ms/step - loss: 0.5179 - categorical_crossentropy: 0.5179\n",
            "Epoch 9/20\n",
            "1250/1250 [==============================] - 24s 19ms/step - loss: 0.4910 - categorical_crossentropy: 0.4910\n",
            "Epoch 10/20\n",
            "1250/1250 [==============================] - 24s 19ms/step - loss: 0.4567 - categorical_crossentropy: 0.4567\n",
            "Epoch 11/20\n",
            "1250/1250 [==============================] - 24s 19ms/step - loss: 0.4319 - categorical_crossentropy: 0.4319\n",
            "Epoch 12/20\n",
            "1250/1250 [==============================] - 24s 19ms/step - loss: 0.4089 - categorical_crossentropy: 0.4089\n",
            "Epoch 13/20\n",
            "1250/1250 [==============================] - 25s 20ms/step - loss: 0.3901 - categorical_crossentropy: 0.3901\n",
            "Epoch 14/20\n",
            "1250/1250 [==============================] - 25s 20ms/step - loss: 0.3638 - categorical_crossentropy: 0.3638\n",
            "Epoch 15/20\n",
            "1250/1250 [==============================] - 24s 19ms/step - loss: 0.3487 - categorical_crossentropy: 0.3487\n",
            "Epoch 16/20\n",
            "1250/1250 [==============================] - 23s 18ms/step - loss: 0.3338 - categorical_crossentropy: 0.3338\n",
            "Epoch 17/20\n",
            "1250/1250 [==============================] - 23s 18ms/step - loss: 0.3224 - categorical_crossentropy: 0.3224\n",
            "Epoch 18/20\n",
            "1250/1250 [==============================] - 23s 18ms/step - loss: 0.3070 - categorical_crossentropy: 0.3070\n",
            "Epoch 19/20\n",
            "1250/1250 [==============================] - 23s 18ms/step - loss: 0.2949 - categorical_crossentropy: 0.2949\n",
            "Epoch 20/20\n",
            "1250/1250 [==============================] - 22s 18ms/step - loss: 0.2828 - categorical_crossentropy: 0.2828\n",
            "\n",
            "Final Loss on training set: 0.532\n",
            "accuracy is 82.06%\n",
            "\n",
            "Training with relu for 20 for fold 3 or 5\n",
            "Epoch 1/20\n",
            "1250/1250 [==============================] - 23s 17ms/step - loss: 1.4751 - categorical_crossentropy: 1.4751\n",
            "Epoch 2/20\n",
            "1250/1250 [==============================] - 21s 17ms/step - loss: 0.9889 - categorical_crossentropy: 0.9889\n",
            "Epoch 3/20\n",
            "1250/1250 [==============================] - 24s 19ms/step - loss: 0.8237 - categorical_crossentropy: 0.8237\n",
            "Epoch 4/20\n",
            "1250/1250 [==============================] - 24s 19ms/step - loss: 0.7341 - categorical_crossentropy: 0.7341\n",
            "Epoch 5/20\n",
            "1250/1250 [==============================] - 23s 19ms/step - loss: 0.6562 - categorical_crossentropy: 0.6562\n",
            "Epoch 6/20\n",
            "1250/1250 [==============================] - 24s 19ms/step - loss: 0.6073 - categorical_crossentropy: 0.6073\n",
            "Epoch 7/20\n",
            "1250/1250 [==============================] - 24s 19ms/step - loss: 0.5563 - categorical_crossentropy: 0.5563\n",
            "Epoch 8/20\n",
            "1250/1250 [==============================] - 23s 19ms/step - loss: 0.5164 - categorical_crossentropy: 0.5164\n",
            "Epoch 9/20\n",
            "1250/1250 [==============================] - 28s 22ms/step - loss: 0.4862 - categorical_crossentropy: 0.4862\n",
            "Epoch 10/20\n",
            "1250/1250 [==============================] - 32s 25ms/step - loss: 0.4505 - categorical_crossentropy: 0.4505\n",
            "Epoch 11/20\n",
            "1250/1250 [==============================] - 31s 25ms/step - loss: 0.4253 - categorical_crossentropy: 0.4253\n",
            "Epoch 12/20\n",
            "1250/1250 [==============================] - 31s 25ms/step - loss: 0.4019 - categorical_crossentropy: 0.4019\n",
            "Epoch 13/20\n",
            "1250/1250 [==============================] - 30s 24ms/step - loss: 0.3862 - categorical_crossentropy: 0.3862\n",
            "Epoch 14/20\n",
            "1250/1250 [==============================] - 28s 23ms/step - loss: 0.3651 - categorical_crossentropy: 0.3651\n",
            "Epoch 15/20\n",
            "1250/1250 [==============================] - 26s 21ms/step - loss: 0.3425 - categorical_crossentropy: 0.3425\n",
            "Epoch 16/20\n",
            "1250/1250 [==============================] - 24s 19ms/step - loss: 0.3247 - categorical_crossentropy: 0.3247\n",
            "Epoch 17/20\n",
            "1250/1250 [==============================] - 24s 19ms/step - loss: 0.3086 - categorical_crossentropy: 0.3086\n",
            "Epoch 18/20\n",
            "1250/1250 [==============================] - 24s 19ms/step - loss: 0.3035 - categorical_crossentropy: 0.3035\n",
            "Epoch 19/20\n",
            "1250/1250 [==============================] - 24s 19ms/step - loss: 0.2811 - categorical_crossentropy: 0.2811\n",
            "Epoch 20/20\n",
            "1250/1250 [==============================] - 24s 19ms/step - loss: 0.2768 - categorical_crossentropy: 0.2768\n",
            "\n",
            "Final Loss on training set: 0.526\n",
            "accuracy is 83.74%\n",
            "\n",
            "Training with relu for 20 for fold 4 or 5\n",
            "Epoch 1/20\n",
            "1250/1250 [==============================] - 27s 20ms/step - loss: 1.4564 - categorical_crossentropy: 1.4564\n",
            "Epoch 2/20\n",
            "1250/1250 [==============================] - 26s 21ms/step - loss: 0.9919 - categorical_crossentropy: 0.9919\n",
            "Epoch 3/20\n",
            "1250/1250 [==============================] - 26s 21ms/step - loss: 0.8321 - categorical_crossentropy: 0.8321\n",
            "Epoch 4/20\n",
            "1250/1250 [==============================] - 26s 21ms/step - loss: 0.7335 - categorical_crossentropy: 0.7335\n",
            "Epoch 5/20\n",
            "1250/1250 [==============================] - 25s 20ms/step - loss: 0.6715 - categorical_crossentropy: 0.6715\n",
            "Epoch 6/20\n",
            "1250/1250 [==============================] - 25s 20ms/step - loss: 0.6117 - categorical_crossentropy: 0.6117\n",
            "Epoch 7/20\n",
            "1250/1250 [==============================] - 25s 20ms/step - loss: 0.5608 - categorical_crossentropy: 0.5608\n",
            "Epoch 8/20\n",
            "1250/1250 [==============================] - 24s 19ms/step - loss: 0.5214 - categorical_crossentropy: 0.5214\n",
            "Epoch 9/20\n",
            "1250/1250 [==============================] - 24s 19ms/step - loss: 0.4907 - categorical_crossentropy: 0.4907\n",
            "Epoch 10/20\n",
            "1250/1250 [==============================] - 24s 19ms/step - loss: 0.4595 - categorical_crossentropy: 0.4595\n",
            "Epoch 11/20\n",
            "1250/1250 [==============================] - 24s 19ms/step - loss: 0.4331 - categorical_crossentropy: 0.4331\n",
            "Epoch 12/20\n",
            "1250/1250 [==============================] - 24s 19ms/step - loss: 0.4080 - categorical_crossentropy: 0.4080\n",
            "Epoch 13/20\n",
            "1250/1250 [==============================] - 24s 19ms/step - loss: 0.3876 - categorical_crossentropy: 0.3876\n",
            "Epoch 14/20\n",
            "1250/1250 [==============================] - 24s 19ms/step - loss: 0.3613 - categorical_crossentropy: 0.3613\n",
            "Epoch 15/20\n",
            "1250/1250 [==============================] - 23s 19ms/step - loss: 0.3478 - categorical_crossentropy: 0.3478\n",
            "Epoch 16/20\n",
            "1250/1250 [==============================] - 23s 19ms/step - loss: 0.3276 - categorical_crossentropy: 0.3276\n",
            "Epoch 17/20\n",
            "1250/1250 [==============================] - 23s 19ms/step - loss: 0.3153 - categorical_crossentropy: 0.3153\n",
            "Epoch 18/20\n",
            "1250/1250 [==============================] - 24s 19ms/step - loss: 0.3064 - categorical_crossentropy: 0.3064\n",
            "Epoch 19/20\n",
            "1250/1250 [==============================] - 24s 19ms/step - loss: 0.2858 - categorical_crossentropy: 0.2858\n",
            "Epoch 20/20\n",
            "1250/1250 [==============================] - 23s 19ms/step - loss: 0.2759 - categorical_crossentropy: 0.2759\n",
            "\n",
            "Final Loss on training set: 0.525\n",
            "accuracy is 82.63%\n",
            "\n",
            "Training with relu for 20 for fold 5 or 5\n",
            "Epoch 1/20\n",
            "1250/1250 [==============================] - 28s 21ms/step - loss: 1.4396 - categorical_crossentropy: 1.4396\n",
            "Epoch 2/20\n",
            "1250/1250 [==============================] - 27s 21ms/step - loss: 1.0075 - categorical_crossentropy: 1.0075\n",
            "Epoch 3/20\n",
            "1250/1250 [==============================] - 26s 21ms/step - loss: 0.8489 - categorical_crossentropy: 0.8489\n",
            "Epoch 4/20\n",
            "1250/1250 [==============================] - 26s 21ms/step - loss: 0.7439 - categorical_crossentropy: 0.7439\n",
            "Epoch 5/20\n",
            "1250/1250 [==============================] - 25s 20ms/step - loss: 0.6692 - categorical_crossentropy: 0.6692\n",
            "Epoch 6/20\n",
            "1250/1250 [==============================] - 25s 20ms/step - loss: 0.6144 - categorical_crossentropy: 0.6144\n",
            "Epoch 7/20\n",
            "1250/1250 [==============================] - 25s 20ms/step - loss: 0.5706 - categorical_crossentropy: 0.5706\n",
            "Epoch 8/20\n",
            "1250/1250 [==============================] - 24s 20ms/step - loss: 0.5245 - categorical_crossentropy: 0.5245\n",
            "Epoch 9/20\n",
            "1250/1250 [==============================] - 24s 19ms/step - loss: 0.4915 - categorical_crossentropy: 0.4915\n",
            "Epoch 10/20\n",
            "1250/1250 [==============================] - 24s 19ms/step - loss: 0.4576 - categorical_crossentropy: 0.4576\n",
            "Epoch 11/20\n",
            "1250/1250 [==============================] - 24s 19ms/step - loss: 0.4321 - categorical_crossentropy: 0.4321\n",
            "Epoch 12/20\n",
            "1250/1250 [==============================] - 24s 19ms/step - loss: 0.4061 - categorical_crossentropy: 0.4061\n",
            "Epoch 13/20\n",
            "1250/1250 [==============================] - 24s 19ms/step - loss: 0.3802 - categorical_crossentropy: 0.3802\n",
            "Epoch 14/20\n",
            "1250/1250 [==============================] - 24s 19ms/step - loss: 0.3671 - categorical_crossentropy: 0.3671\n",
            "Epoch 15/20\n",
            "1250/1250 [==============================] - 24s 19ms/step - loss: 0.3489 - categorical_crossentropy: 0.3489\n",
            "Epoch 16/20\n",
            "1250/1250 [==============================] - 23s 19ms/step - loss: 0.3341 - categorical_crossentropy: 0.3341\n",
            "Epoch 17/20\n",
            "1250/1250 [==============================] - 24s 19ms/step - loss: 0.3183 - categorical_crossentropy: 0.3183\n",
            "Epoch 18/20\n",
            "1250/1250 [==============================] - 23s 19ms/step - loss: 0.3024 - categorical_crossentropy: 0.3024\n",
            "Epoch 19/20\n",
            "1250/1250 [==============================] - 23s 19ms/step - loss: 0.2920 - categorical_crossentropy: 0.2920\n",
            "Epoch 20/20\n",
            "1250/1250 [==============================] - 24s 19ms/step - loss: 0.2762 - categorical_crossentropy: 0.2762\n",
            "\n",
            "Final Loss on training set: 0.526\n",
            "accuracy is 82.91%\n",
            "\n",
            "k-fold complete!\n"
          ]
        }
      ]
    },
    {
      "cell_type": "code",
      "metadata": {
        "id": "0WFeY2vr-AI9",
        "colab": {
          "base_uri": "https://localhost:8080/"
        },
        "outputId": "f77a18db-3421-41d9-946e-f582954c224d"
      },
      "source": [
        "print('Average Accuracy for {}-CV: {}% +/- {}% SD'.format(k, np.round(np.mean(ac)*100,2), np.round(np.std(ac)*100,2)))"
      ],
      "execution_count": null,
      "outputs": [
        {
          "output_type": "stream",
          "name": "stdout",
          "text": [
            "Average Accuracy for 5-CV: 83.03% +/- 0.67% SD\n"
          ]
        }
      ]
    },
    {
      "cell_type": "code",
      "metadata": {
        "colab": {
          "base_uri": "https://localhost:8080/"
        },
        "id": "Lwysr2B4Szvc",
        "outputId": "cc22b4d0-629a-4be8-ff02-0a0a32aa48c5"
      },
      "source": [
        "acc_all = accuracy_score(y_test_max_all,y_pred_max_all)*100\n",
        "print('Accuracy: {:.2f}%'.format(acc_all))\n",
        "print()\n",
        "print(classification_report(y_test_max_all,y_pred_max_all)) \n",
        "print(confusion_matrix(y_test_max_all, y_pred_max_all))\n",
        "\n",
        "mcc_all = matthews_corrcoef(y_test_max_all,y_pred_max_all)\n",
        "print()\n",
        "print('Matthews Correlation Coefficient: {}'.format(mcc_all))"
      ],
      "execution_count": null,
      "outputs": [
        {
          "output_type": "stream",
          "name": "stdout",
          "text": [
            "Accuracy: 83.03%\n",
            "\n",
            "              precision    recall  f1-score   support\n",
            "\n",
            "           0       0.87      0.81      0.84      5000\n",
            "           1       0.92      0.92      0.92      5000\n",
            "           2       0.81      0.73      0.77      5000\n",
            "           3       0.70      0.67      0.69      5000\n",
            "           4       0.79      0.84      0.81      5000\n",
            "           5       0.72      0.78      0.75      5000\n",
            "           6       0.87      0.85      0.86      5000\n",
            "           7       0.87      0.86      0.87      5000\n",
            "           8       0.88      0.92      0.90      5000\n",
            "           9       0.87      0.92      0.89      5000\n",
            "\n",
            "    accuracy                           0.83     50000\n",
            "   macro avg       0.83      0.83      0.83     50000\n",
            "weighted avg       0.83      0.83      0.83     50000\n",
            "\n",
            "[[4057   61  192   63   77   39   33   39  294  145]\n",
            " [  24 4595    4   20    2   17   10    4   55  269]\n",
            " [ 188   15 3674  185  323  250  198   93   53   21]\n",
            " [  78    9  173 3363  210  720  198  139   53   57]\n",
            " [  57    2  136  168 4194  145  106  156   27    9]\n",
            " [  22    8  126  541  172 3881   69  140   17   24]\n",
            " [  28   13  132  235  135  100 4275   23   40   19]\n",
            " [  32    5   77  144  187  186   16 4311   16   26]\n",
            " [ 116   92   24   27   15    8   25   11 4592   90]\n",
            " [  71  193    7   41   11   16    9   15   62 4575]]\n",
            "\n",
            "Matthews Correlation Coefficient: 0.8116158860499175\n"
          ]
        }
      ]
    },
    {
      "cell_type": "code",
      "metadata": {
        "id": "OCHxfSKQ-WF-",
        "colab": {
          "base_uri": "https://localhost:8080/",
          "height": 607
        },
        "outputId": "857992f3-545e-432a-aa6d-44102bc4ff27"
      },
      "source": [
        "from matplotlib import pyplot as plt\n",
        "import seaborn as sns\n",
        "\n",
        "cm_all = np.sum(np.stack(cm,axis=2),axis=2)\n",
        "df_cm = pd.DataFrame(cm_all, columns=class_labels, index=class_labels)\n",
        "fig, ax1 = plt.subplots(1,1, figsize=(10,10))\n",
        "sns.heatmap(df_cm, annot=True, ax=ax1,square=True,  cmap=\"YlGnBu\",vmin=0,vmax=5000,fmt='d')\n",
        "ax1.set_title('Overall acc: {:.2f}% and mcc: {:.3f}'.format(acc_all,mcc_all))\n",
        "ax1.set_xlabel('Predicted')\n",
        "ax1.set_ylabel('Actual');"
      ],
      "execution_count": null,
      "outputs": [
        {
          "output_type": "display_data",
          "data": {
            "image/png": "[encoded data removed]",
            "text/plain": [
              "<Figure size 720x720 with 2 Axes>"
            ]
          },
          "metadata": {
            "needs_background": "light"
          }
        }
      ]
    }
  ]
}